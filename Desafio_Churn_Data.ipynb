{
  "nbformat": 4,
  "nbformat_minor": 0,
  "metadata": {
    "colab": {
      "name": "Desafio Churn Data.ipynb",
      "provenance": [],
      "collapsed_sections": [],
      "mount_file_id": "1ZGx2hvvVdITiduXUsetGrKhG4Ett6TEe",
      "authorship_tag": "ABX9TyMx3hmEABDsKvx3yhtBlk2y",
      "include_colab_link": true
    },
    "kernelspec": {
      "name": "python3",
      "display_name": "Python 3"
    },
    "language_info": {
      "name": "python"
    }
  },
  "cells": [
    {
      "cell_type": "markdown",
      "metadata": {
        "id": "view-in-github",
        "colab_type": "text"
      },
      "source": [
        "<a href=\"https://colab.research.google.com/github/allanbraquiel/desafio_churn_foursys/blob/main/Desafio_Churn_Data.ipynb\" target=\"_parent\"><img src=\"https://colab.research.google.com/assets/colab-badge.svg\" alt=\"Open In Colab\"/></a>"
      ]
    },
    {
      "cell_type": "markdown",
      "metadata": {
        "id": "SghOT4eOmtuu"
      },
      "source": [
        " # DESAFIO TRAINEES – DATA&LAB 2021"
      ]
    },
    {
      "cell_type": "markdown",
      "metadata": {
        "id": "mfS1GJVQmcBo"
      },
      "source": [
        "# Análise de Churn em empresas de Telecom\n",
        "\n",
        "Um dos principais desafios em companhias que trabalham com produtos massificados é desenvolver estratégias de retenção de clientes, que permitam manter ou até ampliar sua receita sem a necessidade do custo de aquisição de novos clientes.\n",
        "\n",
        "Neste sentido, seja no caso de clientes que realizam contratações de médio / longo prazo destes serviços ou clientes que preferem um formato de contratação mensal, é necessário monitorar frequentemente alguns indicadores ou variáveis que possam apontar para um possível abandono\n",
        "(churn) deste cliente, muitas vezes por baixa qualidade do serviço ou atendimento, propostas financeiramente mais atrativas ou serviços diferenciados da concorrência, pra citar alguns exemplos.\n",
        "\n",
        "Vejamos uma análise exploratória dos dados para identifcar padrões e poder definir uma estratégia para a manutenção destes clientes."
      ]
    },
    {
      "cell_type": "markdown",
      "metadata": {
        "id": "bJwAiicynsm9"
      },
      "source": [
        "Carregando as bibliotecas que serão utilizadas para estra análise"
      ]
    },
    {
      "cell_type": "code",
      "metadata": {
        "id": "uPVDlOBFSHV3"
      },
      "source": [
        "import pandas as pd\n",
        "import numpy as np\n",
        "import matplotlib.pyplot as plt\n",
        "%matplotlib inline\n",
        "import seaborn as sns"
      ],
      "execution_count": 36,
      "outputs": []
    },
    {
      "cell_type": "markdown",
      "metadata": {
        "id": "uyEuzO1BnyOi"
      },
      "source": [
        "Carregando os arquivos com os dados que serão analisados"
      ]
    },
    {
      "cell_type": "code",
      "metadata": {
        "id": "XpzTGa7GSVq5"
      },
      "source": [
        "churn_data = pd.read_csv(\"/content/drive/MyDrive/Colab_Notebooks/Desafio Foursys/churn_data.csv\")\n",
        "customer_data = pd.read_csv(\"/content/drive/MyDrive/Colab_Notebooks/Desafio Foursys/customer_data.csv\")\n",
        "internet_data = pd.read_csv(\"/content/drive/MyDrive/Colab_Notebooks/Desafio Foursys/internet_data.csv\")\n",
        "telecom_dict = pd.read_csv(\"/content/drive/MyDrive/Colab_Notebooks/Desafio Foursys/Telecom+Churn+Data+Dictionary.csv\", encoding=\"latin1\")"
      ],
      "execution_count": 37,
      "outputs": []
    },
    {
      "cell_type": "code",
      "metadata": {
        "colab": {
          "base_uri": "https://localhost:8080/",
          "height": 678
        },
        "id": "ChdNHvu9TZj3",
        "outputId": "9645b48d-b95e-40cc-9de3-df8f36e71214"
      },
      "source": [
        "telecom_dict"
      ],
      "execution_count": 38,
      "outputs": [
        {
          "output_type": "execute_result",
          "data": {
            "text/html": [
              "<div>\n",
              "<style scoped>\n",
              "    .dataframe tbody tr th:only-of-type {\n",
              "        vertical-align: middle;\n",
              "    }\n",
              "\n",
              "    .dataframe tbody tr th {\n",
              "        vertical-align: top;\n",
              "    }\n",
              "\n",
              "    .dataframe thead th {\n",
              "        text-align: right;\n",
              "    }\n",
              "</style>\n",
              "<table border=\"1\" class=\"dataframe\">\n",
              "  <thead>\n",
              "    <tr style=\"text-align: right;\">\n",
              "      <th></th>\n",
              "      <th>S.No.</th>\n",
              "      <th>Variable Name</th>\n",
              "      <th>Meaning</th>\n",
              "    </tr>\n",
              "  </thead>\n",
              "  <tbody>\n",
              "    <tr>\n",
              "      <th>0</th>\n",
              "      <td>1</td>\n",
              "      <td>CustomerID</td>\n",
              "      <td>The unique ID of each customer</td>\n",
              "    </tr>\n",
              "    <tr>\n",
              "      <th>1</th>\n",
              "      <td>2</td>\n",
              "      <td>Gender</td>\n",
              "      <td>The gender of a person</td>\n",
              "    </tr>\n",
              "    <tr>\n",
              "      <th>2</th>\n",
              "      <td>3</td>\n",
              "      <td>SeniorCitizen</td>\n",
              "      <td>Whether a customer can be classified as a seni...</td>\n",
              "    </tr>\n",
              "    <tr>\n",
              "      <th>3</th>\n",
              "      <td>4</td>\n",
              "      <td>Partner</td>\n",
              "      <td>If a customer is married/ in a live-in relatio...</td>\n",
              "    </tr>\n",
              "    <tr>\n",
              "      <th>4</th>\n",
              "      <td>5</td>\n",
              "      <td>Dependents</td>\n",
              "      <td>If a customer has dependents (children/ retire...</td>\n",
              "    </tr>\n",
              "    <tr>\n",
              "      <th>5</th>\n",
              "      <td>6</td>\n",
              "      <td>Tenure</td>\n",
              "      <td>The time for which a customer has been using t...</td>\n",
              "    </tr>\n",
              "    <tr>\n",
              "      <th>6</th>\n",
              "      <td>7</td>\n",
              "      <td>PhoneService</td>\n",
              "      <td>Whether a customer has a landline phone servic...</td>\n",
              "    </tr>\n",
              "    <tr>\n",
              "      <th>7</th>\n",
              "      <td>8</td>\n",
              "      <td>MultipleLines</td>\n",
              "      <td>Whether a customer has multiple lines of inter...</td>\n",
              "    </tr>\n",
              "    <tr>\n",
              "      <th>8</th>\n",
              "      <td>9</td>\n",
              "      <td>InternetService</td>\n",
              "      <td>The type of internet services chosen by the cu...</td>\n",
              "    </tr>\n",
              "    <tr>\n",
              "      <th>9</th>\n",
              "      <td>10</td>\n",
              "      <td>OnlineSecurity</td>\n",
              "      <td>Specifies if a customer has online security.</td>\n",
              "    </tr>\n",
              "    <tr>\n",
              "      <th>10</th>\n",
              "      <td>11</td>\n",
              "      <td>OnlineBackup</td>\n",
              "      <td>Specifies if a customer has online backup.</td>\n",
              "    </tr>\n",
              "    <tr>\n",
              "      <th>11</th>\n",
              "      <td>12</td>\n",
              "      <td>DeviceProtection</td>\n",
              "      <td>Specifies if a customer has opted for device p...</td>\n",
              "    </tr>\n",
              "    <tr>\n",
              "      <th>12</th>\n",
              "      <td>13</td>\n",
              "      <td>TechSupport</td>\n",
              "      <td>Whether a customer has opted for tech support ...</td>\n",
              "    </tr>\n",
              "    <tr>\n",
              "      <th>13</th>\n",
              "      <td>14</td>\n",
              "      <td>StreamingTV</td>\n",
              "      <td>Whether a customer has an option of TV streaming.</td>\n",
              "    </tr>\n",
              "    <tr>\n",
              "      <th>14</th>\n",
              "      <td>15</td>\n",
              "      <td>StreamingMovies</td>\n",
              "      <td>Whether a customer has an option of Movie stre...</td>\n",
              "    </tr>\n",
              "    <tr>\n",
              "      <th>15</th>\n",
              "      <td>16</td>\n",
              "      <td>Contract</td>\n",
              "      <td>The type of contract a customer has chosen.</td>\n",
              "    </tr>\n",
              "    <tr>\n",
              "      <th>16</th>\n",
              "      <td>17</td>\n",
              "      <td>PaperlessBilling</td>\n",
              "      <td>Whether a customer has opted for paperless bil...</td>\n",
              "    </tr>\n",
              "    <tr>\n",
              "      <th>17</th>\n",
              "      <td>18</td>\n",
              "      <td>PaymentMethod</td>\n",
              "      <td>Specifies the method by which bills are paid.</td>\n",
              "    </tr>\n",
              "    <tr>\n",
              "      <th>18</th>\n",
              "      <td>19</td>\n",
              "      <td>MonthlyCharges</td>\n",
              "      <td>Specifies the money paid by a customer each mo...</td>\n",
              "    </tr>\n",
              "    <tr>\n",
              "      <th>19</th>\n",
              "      <td>20</td>\n",
              "      <td>TotalCharges</td>\n",
              "      <td>The total money paid by the customer to the co...</td>\n",
              "    </tr>\n",
              "    <tr>\n",
              "      <th>20</th>\n",
              "      <td>21</td>\n",
              "      <td>Churn</td>\n",
              "      <td>This is the target variable which specifies if...</td>\n",
              "    </tr>\n",
              "  </tbody>\n",
              "</table>\n",
              "</div>"
            ],
            "text/plain": [
              "    S.No.  ...                                            Meaning\n",
              "0       1  ...                     The unique ID of each customer\n",
              "1       2  ...                             The gender of a person\n",
              "2       3  ...  Whether a customer can be classified as a seni...\n",
              "3       4  ...  If a customer is married/ in a live-in relatio...\n",
              "4       5  ...  If a customer has dependents (children/ retire...\n",
              "5       6  ...  The time for which a customer has been using t...\n",
              "6       7  ...  Whether a customer has a landline phone servic...\n",
              "7       8  ...  Whether a customer has multiple lines of inter...\n",
              "8       9  ...  The type of internet services chosen by the cu...\n",
              "9      10  ...       Specifies if a customer has online security.\n",
              "10     11  ...         Specifies if a customer has online backup.\n",
              "11     12  ...  Specifies if a customer has opted for device p...\n",
              "12     13  ...  Whether a customer has opted for tech support ...\n",
              "13     14  ...  Whether a customer has an option of TV streaming.\n",
              "14     15  ...  Whether a customer has an option of Movie stre...\n",
              "15     16  ...        The type of contract a customer has chosen.\n",
              "16     17  ...  Whether a customer has opted for paperless bil...\n",
              "17     18  ...      Specifies the method by which bills are paid.\n",
              "18     19  ...  Specifies the money paid by a customer each mo...\n",
              "19     20  ...  The total money paid by the customer to the co...\n",
              "20     21  ...  This is the target variable which specifies if...\n",
              "\n",
              "[21 rows x 3 columns]"
            ]
          },
          "metadata": {
            "tags": []
          },
          "execution_count": 38
        }
      ]
    },
    {
      "cell_type": "code",
      "metadata": {
        "colab": {
          "base_uri": "https://localhost:8080/",
          "height": 198
        },
        "id": "wxZiw104VBJP",
        "outputId": "fb45c311-2e70-4010-9f16-f871caa9f904"
      },
      "source": [
        "customer_data.head()"
      ],
      "execution_count": 39,
      "outputs": [
        {
          "output_type": "execute_result",
          "data": {
            "text/html": [
              "<div>\n",
              "<style scoped>\n",
              "    .dataframe tbody tr th:only-of-type {\n",
              "        vertical-align: middle;\n",
              "    }\n",
              "\n",
              "    .dataframe tbody tr th {\n",
              "        vertical-align: top;\n",
              "    }\n",
              "\n",
              "    .dataframe thead th {\n",
              "        text-align: right;\n",
              "    }\n",
              "</style>\n",
              "<table border=\"1\" class=\"dataframe\">\n",
              "  <thead>\n",
              "    <tr style=\"text-align: right;\">\n",
              "      <th></th>\n",
              "      <th>customerID</th>\n",
              "      <th>gender</th>\n",
              "      <th>SeniorCitizen</th>\n",
              "      <th>Partner</th>\n",
              "      <th>Dependents</th>\n",
              "    </tr>\n",
              "  </thead>\n",
              "  <tbody>\n",
              "    <tr>\n",
              "      <th>0</th>\n",
              "      <td>7590-VHVEG</td>\n",
              "      <td>Female</td>\n",
              "      <td>0</td>\n",
              "      <td>Yes</td>\n",
              "      <td>No</td>\n",
              "    </tr>\n",
              "    <tr>\n",
              "      <th>1</th>\n",
              "      <td>5575-GNVDE</td>\n",
              "      <td>Male</td>\n",
              "      <td>0</td>\n",
              "      <td>No</td>\n",
              "      <td>No</td>\n",
              "    </tr>\n",
              "    <tr>\n",
              "      <th>2</th>\n",
              "      <td>3668-QPYBK</td>\n",
              "      <td>Male</td>\n",
              "      <td>0</td>\n",
              "      <td>No</td>\n",
              "      <td>No</td>\n",
              "    </tr>\n",
              "    <tr>\n",
              "      <th>3</th>\n",
              "      <td>7795-CFOCW</td>\n",
              "      <td>Male</td>\n",
              "      <td>0</td>\n",
              "      <td>No</td>\n",
              "      <td>No</td>\n",
              "    </tr>\n",
              "    <tr>\n",
              "      <th>4</th>\n",
              "      <td>9237-HQITU</td>\n",
              "      <td>Female</td>\n",
              "      <td>0</td>\n",
              "      <td>No</td>\n",
              "      <td>No</td>\n",
              "    </tr>\n",
              "  </tbody>\n",
              "</table>\n",
              "</div>"
            ],
            "text/plain": [
              "   customerID  gender  SeniorCitizen Partner Dependents\n",
              "0  7590-VHVEG  Female              0     Yes         No\n",
              "1  5575-GNVDE    Male              0      No         No\n",
              "2  3668-QPYBK    Male              0      No         No\n",
              "3  7795-CFOCW    Male              0      No         No\n",
              "4  9237-HQITU  Female              0      No         No"
            ]
          },
          "metadata": {
            "tags": []
          },
          "execution_count": 39
        }
      ]
    },
    {
      "cell_type": "code",
      "metadata": {
        "colab": {
          "base_uri": "https://localhost:8080/"
        },
        "id": "brg5sxg1P-Dd",
        "outputId": "bf5911df-c8ea-43dd-9e02-d7716f889a1c"
      },
      "source": [
        "customer_data.info()"
      ],
      "execution_count": 40,
      "outputs": [
        {
          "output_type": "stream",
          "text": [
            "<class 'pandas.core.frame.DataFrame'>\n",
            "RangeIndex: 7043 entries, 0 to 7042\n",
            "Data columns (total 5 columns):\n",
            " #   Column         Non-Null Count  Dtype \n",
            "---  ------         --------------  ----- \n",
            " 0   customerID     7043 non-null   object\n",
            " 1   gender         7043 non-null   object\n",
            " 2   SeniorCitizen  7043 non-null   int64 \n",
            " 3   Partner        7043 non-null   object\n",
            " 4   Dependents     7043 non-null   object\n",
            "dtypes: int64(1), object(4)\n",
            "memory usage: 275.2+ KB\n"
          ],
          "name": "stdout"
        }
      ]
    },
    {
      "cell_type": "code",
      "metadata": {
        "colab": {
          "base_uri": "https://localhost:8080/",
          "height": 198
        },
        "id": "-tSNtryPVEwv",
        "outputId": "ef734acd-6050-40ee-f976-2f77a0aa4975"
      },
      "source": [
        "internet_data.head()"
      ],
      "execution_count": 41,
      "outputs": [
        {
          "output_type": "execute_result",
          "data": {
            "text/html": [
              "<div>\n",
              "<style scoped>\n",
              "    .dataframe tbody tr th:only-of-type {\n",
              "        vertical-align: middle;\n",
              "    }\n",
              "\n",
              "    .dataframe tbody tr th {\n",
              "        vertical-align: top;\n",
              "    }\n",
              "\n",
              "    .dataframe thead th {\n",
              "        text-align: right;\n",
              "    }\n",
              "</style>\n",
              "<table border=\"1\" class=\"dataframe\">\n",
              "  <thead>\n",
              "    <tr style=\"text-align: right;\">\n",
              "      <th></th>\n",
              "      <th>customerID</th>\n",
              "      <th>MultipleLines</th>\n",
              "      <th>InternetService</th>\n",
              "      <th>OnlineSecurity</th>\n",
              "      <th>OnlineBackup</th>\n",
              "      <th>DeviceProtection</th>\n",
              "      <th>TechSupport</th>\n",
              "      <th>StreamingTV</th>\n",
              "      <th>StreamingMovies</th>\n",
              "    </tr>\n",
              "  </thead>\n",
              "  <tbody>\n",
              "    <tr>\n",
              "      <th>0</th>\n",
              "      <td>7590-VHVEG</td>\n",
              "      <td>No phone service</td>\n",
              "      <td>DSL</td>\n",
              "      <td>No</td>\n",
              "      <td>Yes</td>\n",
              "      <td>No</td>\n",
              "      <td>No</td>\n",
              "      <td>No</td>\n",
              "      <td>No</td>\n",
              "    </tr>\n",
              "    <tr>\n",
              "      <th>1</th>\n",
              "      <td>5575-GNVDE</td>\n",
              "      <td>No</td>\n",
              "      <td>DSL</td>\n",
              "      <td>Yes</td>\n",
              "      <td>No</td>\n",
              "      <td>Yes</td>\n",
              "      <td>No</td>\n",
              "      <td>No</td>\n",
              "      <td>No</td>\n",
              "    </tr>\n",
              "    <tr>\n",
              "      <th>2</th>\n",
              "      <td>3668-QPYBK</td>\n",
              "      <td>No</td>\n",
              "      <td>DSL</td>\n",
              "      <td>Yes</td>\n",
              "      <td>Yes</td>\n",
              "      <td>No</td>\n",
              "      <td>No</td>\n",
              "      <td>No</td>\n",
              "      <td>No</td>\n",
              "    </tr>\n",
              "    <tr>\n",
              "      <th>3</th>\n",
              "      <td>7795-CFOCW</td>\n",
              "      <td>No phone service</td>\n",
              "      <td>DSL</td>\n",
              "      <td>Yes</td>\n",
              "      <td>No</td>\n",
              "      <td>Yes</td>\n",
              "      <td>Yes</td>\n",
              "      <td>No</td>\n",
              "      <td>No</td>\n",
              "    </tr>\n",
              "    <tr>\n",
              "      <th>4</th>\n",
              "      <td>9237-HQITU</td>\n",
              "      <td>No</td>\n",
              "      <td>Fiber optic</td>\n",
              "      <td>No</td>\n",
              "      <td>No</td>\n",
              "      <td>No</td>\n",
              "      <td>No</td>\n",
              "      <td>No</td>\n",
              "      <td>No</td>\n",
              "    </tr>\n",
              "  </tbody>\n",
              "</table>\n",
              "</div>"
            ],
            "text/plain": [
              "   customerID     MultipleLines  ... StreamingTV StreamingMovies\n",
              "0  7590-VHVEG  No phone service  ...          No              No\n",
              "1  5575-GNVDE                No  ...          No              No\n",
              "2  3668-QPYBK                No  ...          No              No\n",
              "3  7795-CFOCW  No phone service  ...          No              No\n",
              "4  9237-HQITU                No  ...          No              No\n",
              "\n",
              "[5 rows x 9 columns]"
            ]
          },
          "metadata": {
            "tags": []
          },
          "execution_count": 41
        }
      ]
    },
    {
      "cell_type": "code",
      "metadata": {
        "colab": {
          "base_uri": "https://localhost:8080/"
        },
        "id": "b4fXL6doP-CD",
        "outputId": "f4e06e8a-395a-4b5f-df98-5506d864da1c"
      },
      "source": [
        "internet_data.info()"
      ],
      "execution_count": 42,
      "outputs": [
        {
          "output_type": "stream",
          "text": [
            "<class 'pandas.core.frame.DataFrame'>\n",
            "RangeIndex: 7043 entries, 0 to 7042\n",
            "Data columns (total 9 columns):\n",
            " #   Column            Non-Null Count  Dtype \n",
            "---  ------            --------------  ----- \n",
            " 0   customerID        7043 non-null   object\n",
            " 1   MultipleLines     7043 non-null   object\n",
            " 2   InternetService   7043 non-null   object\n",
            " 3   OnlineSecurity    7043 non-null   object\n",
            " 4   OnlineBackup      7043 non-null   object\n",
            " 5   DeviceProtection  7043 non-null   object\n",
            " 6   TechSupport       7043 non-null   object\n",
            " 7   StreamingTV       7043 non-null   object\n",
            " 8   StreamingMovies   7043 non-null   object\n",
            "dtypes: object(9)\n",
            "memory usage: 495.3+ KB\n"
          ],
          "name": "stdout"
        }
      ]
    },
    {
      "cell_type": "code",
      "metadata": {
        "colab": {
          "base_uri": "https://localhost:8080/",
          "height": 198
        },
        "id": "oGQyO9CAqDkb",
        "outputId": "d9c926ee-394d-49e2-808b-81bf4d4474a1"
      },
      "source": [
        "churn_data.head()"
      ],
      "execution_count": 43,
      "outputs": [
        {
          "output_type": "execute_result",
          "data": {
            "text/html": [
              "<div>\n",
              "<style scoped>\n",
              "    .dataframe tbody tr th:only-of-type {\n",
              "        vertical-align: middle;\n",
              "    }\n",
              "\n",
              "    .dataframe tbody tr th {\n",
              "        vertical-align: top;\n",
              "    }\n",
              "\n",
              "    .dataframe thead th {\n",
              "        text-align: right;\n",
              "    }\n",
              "</style>\n",
              "<table border=\"1\" class=\"dataframe\">\n",
              "  <thead>\n",
              "    <tr style=\"text-align: right;\">\n",
              "      <th></th>\n",
              "      <th>customerID</th>\n",
              "      <th>tenure</th>\n",
              "      <th>PhoneService</th>\n",
              "      <th>Contract</th>\n",
              "      <th>PaperlessBilling</th>\n",
              "      <th>PaymentMethod</th>\n",
              "      <th>MonthlyCharges</th>\n",
              "      <th>TotalCharges</th>\n",
              "      <th>Churn</th>\n",
              "    </tr>\n",
              "  </thead>\n",
              "  <tbody>\n",
              "    <tr>\n",
              "      <th>0</th>\n",
              "      <td>7590-VHVEG</td>\n",
              "      <td>1</td>\n",
              "      <td>No</td>\n",
              "      <td>Month-to-month</td>\n",
              "      <td>Yes</td>\n",
              "      <td>Electronic check</td>\n",
              "      <td>29.85</td>\n",
              "      <td>29.85</td>\n",
              "      <td>No</td>\n",
              "    </tr>\n",
              "    <tr>\n",
              "      <th>1</th>\n",
              "      <td>5575-GNVDE</td>\n",
              "      <td>34</td>\n",
              "      <td>Yes</td>\n",
              "      <td>One year</td>\n",
              "      <td>No</td>\n",
              "      <td>Mailed check</td>\n",
              "      <td>56.95</td>\n",
              "      <td>1889.5</td>\n",
              "      <td>No</td>\n",
              "    </tr>\n",
              "    <tr>\n",
              "      <th>2</th>\n",
              "      <td>3668-QPYBK</td>\n",
              "      <td>2</td>\n",
              "      <td>Yes</td>\n",
              "      <td>Month-to-month</td>\n",
              "      <td>Yes</td>\n",
              "      <td>Mailed check</td>\n",
              "      <td>53.85</td>\n",
              "      <td>108.15</td>\n",
              "      <td>Yes</td>\n",
              "    </tr>\n",
              "    <tr>\n",
              "      <th>3</th>\n",
              "      <td>7795-CFOCW</td>\n",
              "      <td>45</td>\n",
              "      <td>No</td>\n",
              "      <td>One year</td>\n",
              "      <td>No</td>\n",
              "      <td>Bank transfer (automatic)</td>\n",
              "      <td>42.30</td>\n",
              "      <td>1840.75</td>\n",
              "      <td>No</td>\n",
              "    </tr>\n",
              "    <tr>\n",
              "      <th>4</th>\n",
              "      <td>9237-HQITU</td>\n",
              "      <td>2</td>\n",
              "      <td>Yes</td>\n",
              "      <td>Month-to-month</td>\n",
              "      <td>Yes</td>\n",
              "      <td>Electronic check</td>\n",
              "      <td>70.70</td>\n",
              "      <td>151.65</td>\n",
              "      <td>Yes</td>\n",
              "    </tr>\n",
              "  </tbody>\n",
              "</table>\n",
              "</div>"
            ],
            "text/plain": [
              "   customerID  tenure PhoneService  ... MonthlyCharges TotalCharges Churn\n",
              "0  7590-VHVEG       1           No  ...          29.85        29.85    No\n",
              "1  5575-GNVDE      34          Yes  ...          56.95       1889.5    No\n",
              "2  3668-QPYBK       2          Yes  ...          53.85       108.15   Yes\n",
              "3  7795-CFOCW      45           No  ...          42.30      1840.75    No\n",
              "4  9237-HQITU       2          Yes  ...          70.70       151.65   Yes\n",
              "\n",
              "[5 rows x 9 columns]"
            ]
          },
          "metadata": {
            "tags": []
          },
          "execution_count": 43
        }
      ]
    },
    {
      "cell_type": "code",
      "metadata": {
        "colab": {
          "base_uri": "https://localhost:8080/"
        },
        "id": "v2PyQAblVTvX",
        "outputId": "37278dda-5589-4fc9-ca06-58d235034ccf"
      },
      "source": [
        "churn_data.info()"
      ],
      "execution_count": 44,
      "outputs": [
        {
          "output_type": "stream",
          "text": [
            "<class 'pandas.core.frame.DataFrame'>\n",
            "RangeIndex: 7043 entries, 0 to 7042\n",
            "Data columns (total 9 columns):\n",
            " #   Column            Non-Null Count  Dtype  \n",
            "---  ------            --------------  -----  \n",
            " 0   customerID        7043 non-null   object \n",
            " 1   tenure            7043 non-null   int64  \n",
            " 2   PhoneService      7043 non-null   object \n",
            " 3   Contract          7043 non-null   object \n",
            " 4   PaperlessBilling  7043 non-null   object \n",
            " 5   PaymentMethod     7043 non-null   object \n",
            " 6   MonthlyCharges    7043 non-null   float64\n",
            " 7   TotalCharges      7043 non-null   object \n",
            " 8   Churn             7043 non-null   object \n",
            "dtypes: float64(1), int64(1), object(7)\n",
            "memory usage: 495.3+ KB\n"
          ],
          "name": "stdout"
        }
      ]
    },
    {
      "cell_type": "markdown",
      "metadata": {
        "id": "ya_xT7tQSBwR"
      },
      "source": [
        "Para realizar esta análise, vamos fazer a união dos três arquivos"
      ]
    },
    {
      "cell_type": "code",
      "metadata": {
        "id": "GO7AJeqeRqHz"
      },
      "source": [
        "df_union = churn_data.merge(customer_data, how=\"inner\", on=\"customerID\").merge(internet_data, how=\"inner\", on=\"customerID\")"
      ],
      "execution_count": 45,
      "outputs": []
    },
    {
      "cell_type": "code",
      "metadata": {
        "colab": {
          "base_uri": "https://localhost:8080/",
          "height": 305
        },
        "id": "UUVEIobpRxjS",
        "outputId": "450ff9e7-63e9-49ee-b203-3cf282b8a518"
      },
      "source": [
        "df_union.head()"
      ],
      "execution_count": 46,
      "outputs": [
        {
          "output_type": "execute_result",
          "data": {
            "text/html": [
              "<div>\n",
              "<style scoped>\n",
              "    .dataframe tbody tr th:only-of-type {\n",
              "        vertical-align: middle;\n",
              "    }\n",
              "\n",
              "    .dataframe tbody tr th {\n",
              "        vertical-align: top;\n",
              "    }\n",
              "\n",
              "    .dataframe thead th {\n",
              "        text-align: right;\n",
              "    }\n",
              "</style>\n",
              "<table border=\"1\" class=\"dataframe\">\n",
              "  <thead>\n",
              "    <tr style=\"text-align: right;\">\n",
              "      <th></th>\n",
              "      <th>customerID</th>\n",
              "      <th>tenure</th>\n",
              "      <th>PhoneService</th>\n",
              "      <th>Contract</th>\n",
              "      <th>PaperlessBilling</th>\n",
              "      <th>PaymentMethod</th>\n",
              "      <th>MonthlyCharges</th>\n",
              "      <th>TotalCharges</th>\n",
              "      <th>Churn</th>\n",
              "      <th>gender</th>\n",
              "      <th>SeniorCitizen</th>\n",
              "      <th>Partner</th>\n",
              "      <th>Dependents</th>\n",
              "      <th>MultipleLines</th>\n",
              "      <th>InternetService</th>\n",
              "      <th>OnlineSecurity</th>\n",
              "      <th>OnlineBackup</th>\n",
              "      <th>DeviceProtection</th>\n",
              "      <th>TechSupport</th>\n",
              "      <th>StreamingTV</th>\n",
              "      <th>StreamingMovies</th>\n",
              "    </tr>\n",
              "  </thead>\n",
              "  <tbody>\n",
              "    <tr>\n",
              "      <th>0</th>\n",
              "      <td>7590-VHVEG</td>\n",
              "      <td>1</td>\n",
              "      <td>No</td>\n",
              "      <td>Month-to-month</td>\n",
              "      <td>Yes</td>\n",
              "      <td>Electronic check</td>\n",
              "      <td>29.85</td>\n",
              "      <td>29.85</td>\n",
              "      <td>No</td>\n",
              "      <td>Female</td>\n",
              "      <td>0</td>\n",
              "      <td>Yes</td>\n",
              "      <td>No</td>\n",
              "      <td>No phone service</td>\n",
              "      <td>DSL</td>\n",
              "      <td>No</td>\n",
              "      <td>Yes</td>\n",
              "      <td>No</td>\n",
              "      <td>No</td>\n",
              "      <td>No</td>\n",
              "      <td>No</td>\n",
              "    </tr>\n",
              "    <tr>\n",
              "      <th>1</th>\n",
              "      <td>5575-GNVDE</td>\n",
              "      <td>34</td>\n",
              "      <td>Yes</td>\n",
              "      <td>One year</td>\n",
              "      <td>No</td>\n",
              "      <td>Mailed check</td>\n",
              "      <td>56.95</td>\n",
              "      <td>1889.5</td>\n",
              "      <td>No</td>\n",
              "      <td>Male</td>\n",
              "      <td>0</td>\n",
              "      <td>No</td>\n",
              "      <td>No</td>\n",
              "      <td>No</td>\n",
              "      <td>DSL</td>\n",
              "      <td>Yes</td>\n",
              "      <td>No</td>\n",
              "      <td>Yes</td>\n",
              "      <td>No</td>\n",
              "      <td>No</td>\n",
              "      <td>No</td>\n",
              "    </tr>\n",
              "    <tr>\n",
              "      <th>2</th>\n",
              "      <td>3668-QPYBK</td>\n",
              "      <td>2</td>\n",
              "      <td>Yes</td>\n",
              "      <td>Month-to-month</td>\n",
              "      <td>Yes</td>\n",
              "      <td>Mailed check</td>\n",
              "      <td>53.85</td>\n",
              "      <td>108.15</td>\n",
              "      <td>Yes</td>\n",
              "      <td>Male</td>\n",
              "      <td>0</td>\n",
              "      <td>No</td>\n",
              "      <td>No</td>\n",
              "      <td>No</td>\n",
              "      <td>DSL</td>\n",
              "      <td>Yes</td>\n",
              "      <td>Yes</td>\n",
              "      <td>No</td>\n",
              "      <td>No</td>\n",
              "      <td>No</td>\n",
              "      <td>No</td>\n",
              "    </tr>\n",
              "    <tr>\n",
              "      <th>3</th>\n",
              "      <td>7795-CFOCW</td>\n",
              "      <td>45</td>\n",
              "      <td>No</td>\n",
              "      <td>One year</td>\n",
              "      <td>No</td>\n",
              "      <td>Bank transfer (automatic)</td>\n",
              "      <td>42.30</td>\n",
              "      <td>1840.75</td>\n",
              "      <td>No</td>\n",
              "      <td>Male</td>\n",
              "      <td>0</td>\n",
              "      <td>No</td>\n",
              "      <td>No</td>\n",
              "      <td>No phone service</td>\n",
              "      <td>DSL</td>\n",
              "      <td>Yes</td>\n",
              "      <td>No</td>\n",
              "      <td>Yes</td>\n",
              "      <td>Yes</td>\n",
              "      <td>No</td>\n",
              "      <td>No</td>\n",
              "    </tr>\n",
              "    <tr>\n",
              "      <th>4</th>\n",
              "      <td>9237-HQITU</td>\n",
              "      <td>2</td>\n",
              "      <td>Yes</td>\n",
              "      <td>Month-to-month</td>\n",
              "      <td>Yes</td>\n",
              "      <td>Electronic check</td>\n",
              "      <td>70.70</td>\n",
              "      <td>151.65</td>\n",
              "      <td>Yes</td>\n",
              "      <td>Female</td>\n",
              "      <td>0</td>\n",
              "      <td>No</td>\n",
              "      <td>No</td>\n",
              "      <td>No</td>\n",
              "      <td>Fiber optic</td>\n",
              "      <td>No</td>\n",
              "      <td>No</td>\n",
              "      <td>No</td>\n",
              "      <td>No</td>\n",
              "      <td>No</td>\n",
              "      <td>No</td>\n",
              "    </tr>\n",
              "  </tbody>\n",
              "</table>\n",
              "</div>"
            ],
            "text/plain": [
              "   customerID  tenure PhoneService  ... TechSupport StreamingTV StreamingMovies\n",
              "0  7590-VHVEG       1           No  ...          No          No              No\n",
              "1  5575-GNVDE      34          Yes  ...          No          No              No\n",
              "2  3668-QPYBK       2          Yes  ...          No          No              No\n",
              "3  7795-CFOCW      45           No  ...         Yes          No              No\n",
              "4  9237-HQITU       2          Yes  ...          No          No              No\n",
              "\n",
              "[5 rows x 21 columns]"
            ]
          },
          "metadata": {
            "tags": []
          },
          "execution_count": 46
        }
      ]
    },
    {
      "cell_type": "code",
      "metadata": {
        "colab": {
          "base_uri": "https://localhost:8080/"
        },
        "id": "5XOL4WYZqaD_",
        "outputId": "8de260b7-a91a-470e-8787-8df5f2d63d59"
      },
      "source": [
        "df_union.info()"
      ],
      "execution_count": 47,
      "outputs": [
        {
          "output_type": "stream",
          "text": [
            "<class 'pandas.core.frame.DataFrame'>\n",
            "Int64Index: 7043 entries, 0 to 7042\n",
            "Data columns (total 21 columns):\n",
            " #   Column            Non-Null Count  Dtype  \n",
            "---  ------            --------------  -----  \n",
            " 0   customerID        7043 non-null   object \n",
            " 1   tenure            7043 non-null   int64  \n",
            " 2   PhoneService      7043 non-null   object \n",
            " 3   Contract          7043 non-null   object \n",
            " 4   PaperlessBilling  7043 non-null   object \n",
            " 5   PaymentMethod     7043 non-null   object \n",
            " 6   MonthlyCharges    7043 non-null   float64\n",
            " 7   TotalCharges      7043 non-null   object \n",
            " 8   Churn             7043 non-null   object \n",
            " 9   gender            7043 non-null   object \n",
            " 10  SeniorCitizen     7043 non-null   int64  \n",
            " 11  Partner           7043 non-null   object \n",
            " 12  Dependents        7043 non-null   object \n",
            " 13  MultipleLines     7043 non-null   object \n",
            " 14  InternetService   7043 non-null   object \n",
            " 15  OnlineSecurity    7043 non-null   object \n",
            " 16  OnlineBackup      7043 non-null   object \n",
            " 17  DeviceProtection  7043 non-null   object \n",
            " 18  TechSupport       7043 non-null   object \n",
            " 19  StreamingTV       7043 non-null   object \n",
            " 20  StreamingMovies   7043 non-null   object \n",
            "dtypes: float64(1), int64(2), object(18)\n",
            "memory usage: 1.2+ MB\n"
          ],
          "name": "stdout"
        }
      ]
    },
    {
      "cell_type": "code",
      "metadata": {
        "colab": {
          "base_uri": "https://localhost:8080/"
        },
        "id": "XA8c7ziksBH_",
        "outputId": "40fdcd92-087e-4dcc-c63c-f8eceae17391"
      },
      "source": [
        "df_union.columns"
      ],
      "execution_count": 48,
      "outputs": [
        {
          "output_type": "execute_result",
          "data": {
            "text/plain": [
              "Index(['customerID', 'tenure', 'PhoneService', 'Contract', 'PaperlessBilling',\n",
              "       'PaymentMethod', 'MonthlyCharges', 'TotalCharges', 'Churn', 'gender',\n",
              "       'SeniorCitizen', 'Partner', 'Dependents', 'MultipleLines',\n",
              "       'InternetService', 'OnlineSecurity', 'OnlineBackup', 'DeviceProtection',\n",
              "       'TechSupport', 'StreamingTV', 'StreamingMovies'],\n",
              "      dtype='object')"
            ]
          },
          "metadata": {
            "tags": []
          },
          "execution_count": 48
        }
      ]
    },
    {
      "cell_type": "markdown",
      "metadata": {
        "id": "i4mMBUBNL729"
      },
      "source": [
        "Traduzindo o nome das colunas para melhorar o entendimento"
      ]
    },
    {
      "cell_type": "code",
      "metadata": {
        "id": "ISXDBhB0tFoC"
      },
      "source": [
        "df_union.rename(columns = {\"customerID\": \"ClienteID\", \"tenure\": \"TempoServico\", \"PhoneService\": \"ServicoTelefone\", \"Contract\": \"Contrato\",\n",
        "                           \"PaperlessBilling\": \"FaturaSemPapel\", \"PaymentMethod\": \"FormaPagamento\", \"MonthlyCharges\": \"EncargosMensais\",\n",
        "                           \"TotalCharges\": \"CustoTotal\", \"gender\": \"Genero\", \"SeniorCitizen\": \"Idoso\", \"Partner\": \"Casado\", \n",
        "                           \"Dependents\": \"Dependentes\", \"MultipleLines\": \"MultiplasLinhas\", 'InternetService': \"ServicoInternet\", \n",
        "                           'OnlineSecurity': \"SegurancaOnline\", 'OnlineBackup': \"BackupOnline\", 'DeviceProtection': \"ProtecaoDispositivo\", \n",
        "                           'TechSupport': \"SuporteTecnico\", 'StreamingMovies': \"StreamingFilmes\"}, inplace=True)"
      ],
      "execution_count": 49,
      "outputs": []
    },
    {
      "cell_type": "markdown",
      "metadata": {
        "id": "a9tbYsL-aWI_"
      },
      "source": [
        "Alterar os valores da coluna Churn"
      ]
    },
    {
      "cell_type": "code",
      "metadata": {
        "id": "7SsFw4rBL67_"
      },
      "source": [
        "def altera_nome(nome):\n",
        "  if nome == \"Yes\":\n",
        "    return \"Sim\"\n",
        "  else:\n",
        "    return \"Não\"\n",
        "\n",
        "df_union.Churn = df_union.Churn.map(altera_nome)"
      ],
      "execution_count": 50,
      "outputs": []
    },
    {
      "cell_type": "markdown",
      "metadata": {
        "id": "prbyitYZai8_"
      },
      "source": [
        "A coluna CustoTotal foi carregada como object, então será alterada para uma variável numérica"
      ]
    },
    {
      "cell_type": "code",
      "metadata": {
        "id": "TKlLL3-ilftf"
      },
      "source": [
        "df_union.CustoTotal = pd.to_numeric(df_union[\"CustoTotal\"], errors='coerce')"
      ],
      "execution_count": 51,
      "outputs": []
    },
    {
      "cell_type": "markdown",
      "metadata": {
        "id": "SVKddhkFa0vn"
      },
      "source": [
        "Para visualizar a prpoporção de clientes que abandonam a empresa, esta série de gráficos irá mostrar com estão distribuídos os clientes que deixam a empresa, de acordo com cada coluna"
      ]
    },
    {
      "cell_type": "code",
      "metadata": {
        "id": "_Bc9qdxlW6Rt",
        "colab": {
          "base_uri": "https://localhost:8080/",
          "height": 1000
        },
        "outputId": "fabb1438-b2d6-480c-f776-0326dbb94f3d"
      },
      "source": [
        "lista = ['TempoServico', 'ServicoTelefone', 'Contrato', 'FaturaSemPapel', 'FormaPagamento', 'Idoso', 'Casado', 'Dependentes',\n",
        "         'ServicoInternet', 'SegurancaOnline', 'BackupOnline', 'ProtecaoDispositivo', 'SuporteTecnico', 'StreamingTV', 'StreamingFilmes']\n",
        "\n",
        "for i in lista:\n",
        "  g = sns.catplot(x=i, kind=\"count\", palette=\"Set2\", hue=\"Churn\", data=df_union)\n",
        "  g.fig.set_figwidth(20.27)\n",
        "  g.fig.set_figheight(8.7)\n",
        "  \n"
      ],
      "execution_count": 53,
      "outputs": [
        {
          "output_type": "display_data",
          "data": {
            "image/png": "[encoded data removed]",
            "text/plain": [
              "<Figure size 1459.44x626.4 with 1 Axes>"
            ]
          },
          "metadata": {
            "tags": [],
            "needs_background": "light"
          }
        },
        {
          "output_type": "display_data",
          "data": {
            "image/png": "[encoded data removed]",
            "text/plain": [
              "<Figure size 1459.44x626.4 with 1 Axes>"
            ]
          },
          "metadata": {
            "tags": [],
            "needs_background": "light"
          }
        },
        {
          "output_type": "display_data",
          "data": {
            "image/png": "[encoded data removed]",
            "text/plain": [
              "<Figure size 1459.44x626.4 with 1 Axes>"
            ]
          },
          "metadata": {
            "tags": [],
            "needs_background": "light"
          }
        },
        {
          "output_type": "display_data",
          "data": {
            "image/png": "[encoded data removed]",
            "text/plain": [
              "<Figure size 1459.44x626.4 with 1 Axes>"
            ]
          },
          "metadata": {
            "tags": [],
            "needs_background": "light"
          }
        },
        {
          "output_type": "display_data",
          "data": {
            "image/png": "[encoded data removed]",
            "text/plain": [
              "<Figure size 1459.44x626.4 with 1 Axes>"
            ]
          },
          "metadata": {
            "tags": [],
            "needs_background": "light"
          }
        },
        {
          "output_type": "display_data",
          "data": {
            "image/png": "[encoded data removed]",
            "text/plain": [
              "<Figure size 1459.44x626.4 with 1 Axes>"
            ]
          },
          "metadata": {
            "tags": [],
            "needs_background": "light"
          }
        },
        {
          "output_type": "display_data",
          "data": {
            "image/png": "[encoded data removed]",
            "text/plain": [
              "<Figure size 1459.44x626.4 with 1 Axes>"
            ]
          },
          "metadata": {
            "tags": [],
            "needs_background": "light"
          }
        },
        {
          "output_type": "display_data",
          "data": {
            "image/png": "[encoded data removed]",
            "text/plain": [
              "<Figure size 1459.44x626.4 with 1 Axes>"
            ]
          },
          "metadata": {
            "tags": [],
            "needs_background": "light"
          }
        },
        {
          "output_type": "display_data",
          "data": {
            "image/png": "[encoded data removed]",
            "text/plain": [
              "<Figure size 1459.44x626.4 with 1 Axes>"
            ]
          },
          "metadata": {
            "tags": [],
            "needs_background": "light"
          }
        },
        {
          "output_type": "display_data",
          "data": {
            "image/png": "[encoded data removed]",
            "text/plain": [
              "<Figure size 1459.44x626.4 with 1 Axes>"
            ]
          },
          "metadata": {
            "tags": [],
            "needs_background": "light"
          }
        },
        {
          "output_type": "display_data",
          "data": {
            "image/png": "[encoded data removed]",
            "text/plain": [
              "<Figure size 1459.44x626.4 with 1 Axes>"
            ]
          },
          "metadata": {
            "tags": [],
            "needs_background": "light"
          }
        },
        {
          "output_type": "display_data",
          "data": {
            "image/png": "[encoded data removed]",
            "text/plain": [
              "<Figure size 1459.44x626.4 with 1 Axes>"
            ]
          },
          "metadata": {
            "tags": [],
            "needs_background": "light"
          }
        },
        {
          "output_type": "display_data",
          "data": {
            "image/png": "[encoded data removed]",
            "text/plain": [
              "<Figure size 1459.44x626.4 with 1 Axes>"
            ]
          },
          "metadata": {
            "tags": [],
            "needs_background": "light"
          }
        },
        {
          "output_type": "display_data",
          "data": {
            "image/png": "[encoded data removed]",
            "text/plain": [
              "<Figure size 1459.44x626.4 with 1 Axes>"
            ]
          },
          "metadata": {
            "tags": [],
            "needs_background": "light"
          }
        },
        {
          "output_type": "display_data",
          "data": {
            "image/png": "[encoded data removed]",
            "text/plain": [
              "<Figure size 1459.44x626.4 with 1 Axes>"
            ]
          },
          "metadata": {
            "tags": [],
            "needs_background": "light"
          }
        }
      ]
    },
    {
      "cell_type": "markdown",
      "metadata": {
        "id": "73OGXn0NgKAe"
      },
      "source": [
        "# Hipóteses a serem analisadas:\n",
        "\n",
        "Tempo de Serviço: \n",
        "Clientes com pouco tempo de serviço, principalmente no primeiro mês, tendem a candelar mais do que os que permanecem mais de 6 meses.\n",
        "\n",
        "Serviço de Telefone:\n",
        "Clientes com serviço telefônico cancelam mais dos que não tem\n",
        "\n",
        "Contrato:\n",
        "Contratos mensais cancelam mais do que contratos anuais\n",
        "\n",
        "Fatura sem papel:\n",
        "Quem opta por fatura sem papel tende a cancelar mais\n",
        "\n",
        "Forma de pagamento:\n",
        "Pessoas que optam pela forma de pagamento Electronic check cancelam mais\n",
        "\n",
        "Encargos Mensais:\n",
        "A maioria dos clientes que cancelam tem encargos mensais entre 70 e 100 reais\n",
        "\n",
        "Custo total:\n",
        "Clientes que gastam até 200 reais são os que mais cancelam\n",
        "\n",
        "Gênero:\n",
        "O gênero é indiferente\n",
        "\n",
        "Idoso:\n",
        "Pessas jovens cancelam mais do que os idosos\n",
        "\n",
        "Casado:\n",
        "Pessoas casadas mantém o contrato por mais tempo do que solteiros\n",
        "\n",
        "Dependentes:\n",
        "Pessoas com filhos não cancelam tanto quanto os que não tem filhos\n",
        "\n",
        "Multiplas Linhas:\n",
        "Proporcionalmente é indiferente\n",
        "\n",
        "Serviço Internet:\n",
        "Clientes que utilizarm Fibra optica cancelam mais\n",
        "\n",
        "Segurança Online:\n",
        "Clientes que não tem este serviço cancelam mais\n",
        "\n",
        "Backup Online:\n",
        "Quem não tem backup online cancelam mais\n",
        "\n",
        "Proteção dispositivo:\n",
        "Quem não tem proteção de dispositivo cancelam mais\n",
        "\n",
        "Suporte Tecnico:\n",
        "Os cliente que não tem suporte técnico cancelam mais\n",
        "\n",
        "Streaming tv:\n",
        "Quem não tem este serviço cancela mais\n",
        "\n",
        "Streaming filmes:\n",
        "Pouca diferença entre quem tem e não tem\n",
        "\n",
        "\n",
        "\n"
      ]
    },
    {
      "cell_type": "markdown",
      "metadata": {
        "id": "x0r3dK1Peqo2"
      },
      "source": [
        "**Agora podemos separar este conjunto de dados em 3 grande grupos:**\n",
        "\n",
        "**Pessoa:**\n",
        "\n",
        "\n",
        "> Gênero\n",
        "\n",
        "> Idoso\n",
        "\n",
        "> Casado\n",
        "\n",
        "> Dependentes\n",
        "\n",
        "\n",
        "**Contrato:**\n",
        "\n",
        "> Tempo de serviço\n",
        "\n",
        "> Serviço de telefone\n",
        "\n",
        "> Contrato\n",
        "\n",
        "> Fatura sem papel\n",
        "\n",
        "> Forma de pagamento\n",
        "\n",
        "> Encargos mensais\n",
        "\n",
        "> Custo total\n",
        "\n",
        "\n",
        "**Serviços:**\n",
        "\n",
        "> Múltiplas linhas\n",
        "\n",
        "> Serviços Internet\n",
        "\n",
        "> Segurança online\n",
        "\n",
        "> Backup online\n",
        "\n",
        "> Proteção de dispositivo\n",
        "\n",
        "> Suporte Tecnico\n",
        "\n",
        "> Streaming TV\n",
        "\n",
        "> Streaming Filmes\n",
        "\n",
        "\n"
      ]
    },
    {
      "cell_type": "markdown",
      "metadata": {
        "id": "jGTp4mFPpi58"
      },
      "source": [
        "Após esta separação, podemos verificar qual a proporção de clientes com estas características em comum, como clientes jovens, solteiros e que não tem dependentes."
      ]
    },
    {
      "cell_type": "code",
      "metadata": {
        "id": "MlK6xFqZBzQz"
      },
      "source": [
        "pessoa = df_union.query(\"Casado == 'No' and Dependentes == 'No' and Idoso == 0\")"
      ],
      "execution_count": 54,
      "outputs": []
    },
    {
      "cell_type": "markdown",
      "metadata": {
        "id": "tDUBPffcqCgc"
      },
      "source": [
        "Primeiramente, vamos ver a proporção total de clientes que cancelam o serviço"
      ]
    },
    {
      "cell_type": "code",
      "metadata": {
        "colab": {
          "base_uri": "https://localhost:8080/"
        },
        "id": "rmexlG0vNp4l",
        "outputId": "67eb8811-1aaa-470b-90ac-8a60b5c2e80b"
      },
      "source": [
        "df_union.Churn.value_counts(normalize=True).map('{:.2%}'.format)"
      ],
      "execution_count": 55,
      "outputs": [
        {
          "output_type": "execute_result",
          "data": {
            "text/plain": [
              "Não    73.46%\n",
              "Sim    26.54%\n",
              "Name: Churn, dtype: object"
            ]
          },
          "metadata": {
            "tags": []
          },
          "execution_count": 55
        }
      ]
    },
    {
      "cell_type": "markdown",
      "metadata": {
        "id": "SvezCh-OqRNJ"
      },
      "source": [
        "Agora, a proporção de cancelamentos com pessoas com as características citadas acima:"
      ]
    },
    {
      "cell_type": "code",
      "metadata": {
        "colab": {
          "base_uri": "https://localhost:8080/"
        },
        "id": "IaNN4nl8NbAf",
        "outputId": "5f22adfa-d509-4bdd-9016-4030ba542f11"
      },
      "source": [
        "pessoa.Churn.value_counts(normalize=True).map('{:.2%}'.format)"
      ],
      "execution_count": 56,
      "outputs": [
        {
          "output_type": "execute_result",
          "data": {
            "text/plain": [
              "Não    68.85%\n",
              "Sim    31.15%\n",
              "Name: Churn, dtype: object"
            ]
          },
          "metadata": {
            "tags": []
          },
          "execution_count": 56
        }
      ]
    },
    {
      "cell_type": "markdown",
      "metadata": {
        "id": "qF2_QEr1qgH0"
      },
      "source": [
        "Agora vamos reunir clientes com características apresentadas nas hipósteses levantadas anteriormente:"
      ]
    },
    {
      "cell_type": "code",
      "metadata": {
        "id": "I5HdjHbYhLgy"
      },
      "source": [
        "contrato = df_union.query(\"TempoServico < 3 and ServicoTelefone == 'Yes' and Contrato == 'Month-to-month' & FaturaSemPapel == 'Yes' & FormaPagamento == 'Electronic check' & (EncargosMensais >= 70 and EncargosMensais <=100)\")"
      ],
      "execution_count": 57,
      "outputs": []
    },
    {
      "cell_type": "code",
      "metadata": {
        "colab": {
          "base_uri": "https://localhost:8080/"
        },
        "id": "AHXhcx5dOSrt",
        "outputId": "4bc7e2d3-20e5-47cf-a29d-ba25ecbc6792"
      },
      "source": [
        "contrato.Churn.value_counts(normalize=True).map('{:.2%}'.format)"
      ],
      "execution_count": 58,
      "outputs": [
        {
          "output_type": "execute_result",
          "data": {
            "text/plain": [
              "Sim    81.82%\n",
              "Não    18.18%\n",
              "Name: Churn, dtype: object"
            ]
          },
          "metadata": {
            "tags": []
          },
          "execution_count": 58
        }
      ]
    },
    {
      "cell_type": "markdown",
      "metadata": {
        "id": "vf_8ued8rii-"
      },
      "source": [
        "Os clientes que não tem serviços adicionais em seu contrato:"
      ]
    },
    {
      "cell_type": "code",
      "metadata": {
        "id": "eF2No6oRObcM"
      },
      "source": [
        "servicos = df_union.query(\"ServicoInternet == 'Fiber optic' and SegurancaOnline == 'No' and BackupOnline == 'No' and ProtecaoDispositivo == 'No' and SuporteTecnico == 'No'\")"
      ],
      "execution_count": 59,
      "outputs": []
    },
    {
      "cell_type": "code",
      "metadata": {
        "colab": {
          "base_uri": "https://localhost:8080/"
        },
        "id": "_KIdFmC7Ph9e",
        "outputId": "bcffb60f-15fb-4ba7-e468-1c36e74f2917"
      },
      "source": [
        "servicos.Churn.value_counts(normalize=True).map('{:.2%}'.format)"
      ],
      "execution_count": 60,
      "outputs": [
        {
          "output_type": "execute_result",
          "data": {
            "text/plain": [
              "Sim    63.56%\n",
              "Não    36.44%\n",
              "Name: Churn, dtype: object"
            ]
          },
          "metadata": {
            "tags": []
          },
          "execution_count": 60
        }
      ]
    },
    {
      "cell_type": "markdown",
      "metadata": {
        "id": "fZymnAmAPzSd"
      },
      "source": [
        "# Conclusões\n",
        "\n",
        "Entre pessoas Jovens, solteiros e sem filhos a proporção de clientes que abandonam a empresa aumenta 5 % em relação ao total geral.\n",
        "\n",
        "Entre pessoas que tem um contrato a menos de 3 meses, em contratos mensais e forma de pagamento Cheque eletrônico, que gasta entre 70 e 100 Reais, tem um aumento de abandono de 55%, em proporção ao total geral.\n",
        "\n",
        "Entre pessoas que não tem serviços como fibra optica, segurança online, backup online e suporte técnico, tem um aumento de 37%.\n",
        "\n"
      ]
    },
    {
      "cell_type": "markdown",
      "metadata": {
        "id": "t-vj9GSgtMc1"
      },
      "source": [
        "# Estratégia para retenção de clientes\n",
        "\n",
        "> Oferecer um desconto ou serviço adicional para os contratos de um ano ou dois\n",
        "\n",
        "> Oferecer serviços gratuitos como suporte técnico, segurança online, proteção do dispositivo e backup online nos 3 primeiros meses.\n",
        "\n",
        "> Dar desconto para quem utilizar o débito automático ou transferência eletrônica\n"
      ]
    },
    {
      "cell_type": "markdown",
      "metadata": {
        "id": "JkEnLad1YgV1"
      },
      "source": [
        "# Realizando previsões para novos clientes\n",
        "\n",
        "Agora que descobrimos o que aconteceu, e o que pode ser feito para reter os clientes, é importante que possamos identificá-los para que possa ser tomadas ações para evitar o Churn"
      ]
    },
    {
      "cell_type": "markdown",
      "metadata": {
        "id": "_Pd75aJcvVGt"
      },
      "source": [
        "Para realizar as previsões, que preparar os dados para a criação do modelo de machine learning. A primeira preparação será verificar se há dados nulos e depois transformar dos dados do tipo object para dados categóricos"
      ]
    },
    {
      "cell_type": "code",
      "metadata": {
        "colab": {
          "base_uri": "https://localhost:8080/"
        },
        "id": "xMYIq3V9u1Nl",
        "outputId": "c9cbd4ef-7f58-4c87-89cd-3f24ddaa7d5f"
      },
      "source": [
        "df_union.info()"
      ],
      "execution_count": 68,
      "outputs": [
        {
          "output_type": "stream",
          "text": [
            "<class 'pandas.core.frame.DataFrame'>\n",
            "Int64Index: 7043 entries, 0 to 7042\n",
            "Data columns (total 21 columns):\n",
            " #   Column               Non-Null Count  Dtype   \n",
            "---  ------               --------------  -----   \n",
            " 0   ClienteID            7043 non-null   category\n",
            " 1   TempoServico         7043 non-null   int64   \n",
            " 2   ServicoTelefone      7043 non-null   category\n",
            " 3   Contrato             7043 non-null   category\n",
            " 4   FaturaSemPapel       7043 non-null   category\n",
            " 5   FormaPagamento       7043 non-null   category\n",
            " 6   EncargosMensais      7043 non-null   float64 \n",
            " 7   CustoTotal           7043 non-null   float64 \n",
            " 8   Churn                7043 non-null   category\n",
            " 9   Genero               7043 non-null   category\n",
            " 10  Idoso                7043 non-null   int64   \n",
            " 11  Casado               7043 non-null   category\n",
            " 12  Dependentes          7043 non-null   category\n",
            " 13  MultiplasLinhas      7043 non-null   category\n",
            " 14  ServicoInternet      7043 non-null   category\n",
            " 15  SegurancaOnline      7043 non-null   category\n",
            " 16  BackupOnline         7043 non-null   category\n",
            " 17  ProtecaoDispositivo  7043 non-null   category\n",
            " 18  SuporteTecnico       7043 non-null   category\n",
            " 19  StreamingTV          7043 non-null   category\n",
            " 20  StreamingFilmes      7043 non-null   category\n",
            "dtypes: category(17), float64(2), int64(2)\n",
            "memory usage: 1.1 MB\n"
          ],
          "name": "stdout"
        }
      ]
    },
    {
      "cell_type": "markdown",
      "metadata": {
        "id": "QXoxon4-YOPd"
      },
      "source": [
        "Verificando se há dados nulos"
      ]
    },
    {
      "cell_type": "code",
      "metadata": {
        "id": "j0t-Tdx6xTcw",
        "colab": {
          "base_uri": "https://localhost:8080/"
        },
        "outputId": "209bbade-5192-472c-ddc2-13456732ecc1"
      },
      "source": [
        "df_union.isnull().sum()"
      ],
      "execution_count": 62,
      "outputs": [
        {
          "output_type": "execute_result",
          "data": {
            "text/plain": [
              "ClienteID               0\n",
              "TempoServico            0\n",
              "ServicoTelefone         0\n",
              "Contrato                0\n",
              "FaturaSemPapel          0\n",
              "FormaPagamento          0\n",
              "EncargosMensais         0\n",
              "CustoTotal             11\n",
              "Churn                   0\n",
              "Genero                  0\n",
              "Idoso                   0\n",
              "Casado                  0\n",
              "Dependentes             0\n",
              "MultiplasLinhas         0\n",
              "ServicoInternet         0\n",
              "SegurancaOnline         0\n",
              "BackupOnline            0\n",
              "ProtecaoDispositivo     0\n",
              "SuporteTecnico          0\n",
              "StreamingTV             0\n",
              "StreamingFilmes         0\n",
              "dtype: int64"
            ]
          },
          "metadata": {
            "tags": []
          },
          "execution_count": 62
        }
      ]
    },
    {
      "cell_type": "markdown",
      "metadata": {
        "id": "zO9DMZLgYTaU"
      },
      "source": [
        "Comm foram encontrados dados faltantes, é necessário tratálos de alguma forma. Neste caso, iremos utilizar a técnica forward."
      ]
    },
    {
      "cell_type": "code",
      "metadata": {
        "id": "P0gt0p8xxZBQ"
      },
      "source": [
        "df_union = df_union.fillna(method='ffill')"
      ],
      "execution_count": 63,
      "outputs": []
    },
    {
      "cell_type": "code",
      "metadata": {
        "colab": {
          "base_uri": "https://localhost:8080/"
        },
        "id": "0Px78UQjY77M",
        "outputId": "5af09ed6-247f-4847-9fcb-ebb10fb81765"
      },
      "source": [
        "df_union.isnull().sum()"
      ],
      "execution_count": 64,
      "outputs": [
        {
          "output_type": "execute_result",
          "data": {
            "text/plain": [
              "ClienteID              0\n",
              "TempoServico           0\n",
              "ServicoTelefone        0\n",
              "Contrato               0\n",
              "FaturaSemPapel         0\n",
              "FormaPagamento         0\n",
              "EncargosMensais        0\n",
              "CustoTotal             0\n",
              "Churn                  0\n",
              "Genero                 0\n",
              "Idoso                  0\n",
              "Casado                 0\n",
              "Dependentes            0\n",
              "MultiplasLinhas        0\n",
              "ServicoInternet        0\n",
              "SegurancaOnline        0\n",
              "BackupOnline           0\n",
              "ProtecaoDispositivo    0\n",
              "SuporteTecnico         0\n",
              "StreamingTV            0\n",
              "StreamingFilmes        0\n",
              "dtype: int64"
            ]
          },
          "metadata": {
            "tags": []
          },
          "execution_count": 64
        }
      ]
    },
    {
      "cell_type": "code",
      "metadata": {
        "id": "jtgDgn9ErxkU"
      },
      "source": [
        "lista_objects = df_union.select_dtypes(include=['object']).columns"
      ],
      "execution_count": 69,
      "outputs": []
    },
    {
      "cell_type": "code",
      "metadata": {
        "colab": {
          "base_uri": "https://localhost:8080/"
        },
        "id": "wwZTykDVvDpY",
        "outputId": "66dad78a-f5fd-416d-e0b8-a13f01d79e33"
      },
      "source": [
        "lista_objects"
      ],
      "execution_count": 70,
      "outputs": [
        {
          "output_type": "execute_result",
          "data": {
            "text/plain": [
              "Index([], dtype='object')"
            ]
          },
          "metadata": {
            "tags": []
          },
          "execution_count": 70
        }
      ]
    },
    {
      "cell_type": "code",
      "metadata": {
        "id": "yRLj5iF6sOIk"
      },
      "source": [
        "df_union[lista_objects] = df_union[lista_objects].astype(\"category\")"
      ],
      "execution_count": 71,
      "outputs": []
    },
    {
      "cell_type": "code",
      "metadata": {
        "colab": {
          "base_uri": "https://localhost:8080/"
        },
        "id": "21aJzZ7fsgZM",
        "outputId": "09d84a85-366c-4cea-8d1d-e2bd350b2f26"
      },
      "source": [
        "df_union.info()"
      ],
      "execution_count": 72,
      "outputs": [
        {
          "output_type": "stream",
          "text": [
            "<class 'pandas.core.frame.DataFrame'>\n",
            "Int64Index: 7043 entries, 0 to 7042\n",
            "Data columns (total 21 columns):\n",
            " #   Column               Non-Null Count  Dtype   \n",
            "---  ------               --------------  -----   \n",
            " 0   ClienteID            7043 non-null   category\n",
            " 1   TempoServico         7043 non-null   int64   \n",
            " 2   ServicoTelefone      7043 non-null   category\n",
            " 3   Contrato             7043 non-null   category\n",
            " 4   FaturaSemPapel       7043 non-null   category\n",
            " 5   FormaPagamento       7043 non-null   category\n",
            " 6   EncargosMensais      7043 non-null   float64 \n",
            " 7   CustoTotal           7043 non-null   float64 \n",
            " 8   Churn                7043 non-null   category\n",
            " 9   Genero               7043 non-null   category\n",
            " 10  Idoso                7043 non-null   int64   \n",
            " 11  Casado               7043 non-null   category\n",
            " 12  Dependentes          7043 non-null   category\n",
            " 13  MultiplasLinhas      7043 non-null   category\n",
            " 14  ServicoInternet      7043 non-null   category\n",
            " 15  SegurancaOnline      7043 non-null   category\n",
            " 16  BackupOnline         7043 non-null   category\n",
            " 17  ProtecaoDispositivo  7043 non-null   category\n",
            " 18  SuporteTecnico       7043 non-null   category\n",
            " 19  StreamingTV          7043 non-null   category\n",
            " 20  StreamingFilmes      7043 non-null   category\n",
            "dtypes: category(17), float64(2), int64(2)\n",
            "memory usage: 1.1 MB\n"
          ],
          "name": "stdout"
        }
      ]
    },
    {
      "cell_type": "markdown",
      "metadata": {
        "id": "DuCCT4T4RtBw"
      },
      "source": [
        "Separando os dados de teste e treino"
      ]
    },
    {
      "cell_type": "code",
      "metadata": {
        "id": "Qq56927ORr2c"
      },
      "source": [
        "x = df_union.drop([\"ClienteID\", \"Churn\"], axis=1, inplace=False)\n",
        "y = df_union[\"Churn\"]"
      ],
      "execution_count": 73,
      "outputs": []
    },
    {
      "cell_type": "code",
      "metadata": {
        "colab": {
          "base_uri": "https://localhost:8080/"
        },
        "id": "t24ZWUyXRsBH",
        "outputId": "a2ecdad3-e59d-46d0-d75b-2cb76a311473"
      },
      "source": [
        "x.info()"
      ],
      "execution_count": 74,
      "outputs": [
        {
          "output_type": "stream",
          "text": [
            "<class 'pandas.core.frame.DataFrame'>\n",
            "Int64Index: 7043 entries, 0 to 7042\n",
            "Data columns (total 19 columns):\n",
            " #   Column               Non-Null Count  Dtype   \n",
            "---  ------               --------------  -----   \n",
            " 0   TempoServico         7043 non-null   int64   \n",
            " 1   ServicoTelefone      7043 non-null   category\n",
            " 2   Contrato             7043 non-null   category\n",
            " 3   FaturaSemPapel       7043 non-null   category\n",
            " 4   FormaPagamento       7043 non-null   category\n",
            " 5   EncargosMensais      7043 non-null   float64 \n",
            " 6   CustoTotal           7043 non-null   float64 \n",
            " 7   Genero               7043 non-null   category\n",
            " 8   Idoso                7043 non-null   int64   \n",
            " 9   Casado               7043 non-null   category\n",
            " 10  Dependentes          7043 non-null   category\n",
            " 11  MultiplasLinhas      7043 non-null   category\n",
            " 12  ServicoInternet      7043 non-null   category\n",
            " 13  SegurancaOnline      7043 non-null   category\n",
            " 14  BackupOnline         7043 non-null   category\n",
            " 15  ProtecaoDispositivo  7043 non-null   category\n",
            " 16  SuporteTecnico       7043 non-null   category\n",
            " 17  StreamingTV          7043 non-null   category\n",
            " 18  StreamingFilmes      7043 non-null   category\n",
            "dtypes: category(15), float64(2), int64(2)\n",
            "memory usage: 699.9 KB\n"
          ],
          "name": "stdout"
        }
      ]
    },
    {
      "cell_type": "markdown",
      "metadata": {
        "id": "cmOiCtwiqzUF"
      },
      "source": [
        "Agora que os dados estão como categóricos, precisamos codificá-los para a preparação para o treinamento do modelo utilizando o Label Encoder"
      ]
    },
    {
      "cell_type": "code",
      "metadata": {
        "id": "VN5DwnoJYYqW"
      },
      "source": [
        "from sklearn import preprocessing"
      ],
      "execution_count": 77,
      "outputs": []
    },
    {
      "cell_type": "code",
      "metadata": {
        "id": "vc0_juyzs7H-"
      },
      "source": [
        "label1 = preprocessing.LabelEncoder()\n",
        "label2 = preprocessing.LabelEncoder()\n",
        "label3 = preprocessing.LabelEncoder()\n",
        "label4 = preprocessing.LabelEncoder()\n",
        "label5 = preprocessing.LabelEncoder()\n",
        "label6 = preprocessing.LabelEncoder()\n",
        "label7 = preprocessing.LabelEncoder()\n",
        "label8 = preprocessing.LabelEncoder()\n",
        "label9 = preprocessing.LabelEncoder()\n",
        "label10 = preprocessing.LabelEncoder()\n",
        "label11 = preprocessing.LabelEncoder()\n",
        "label12 = preprocessing.LabelEncoder()\n",
        "label13 = preprocessing.LabelEncoder()\n",
        "label14 = preprocessing.LabelEncoder()\n",
        "label15 = preprocessing.LabelEncoder()\n"
      ],
      "execution_count": 78,
      "outputs": []
    },
    {
      "cell_type": "code",
      "metadata": {
        "id": "af-ryLUZq3Cl"
      },
      "source": [
        "x.Contrato = label1.fit_transform(x.Contrato)\n",
        "x.FaturaSemPapel = label2.fit_transform(x.FaturaSemPapel)\n",
        "x.FormaPagamento = label3.fit_transform(x.FormaPagamento)\n",
        "x.Genero = label4.fit_transform(x.Genero)\n",
        "x.Casado = label5.fit_transform(x.Casado)\n",
        "x.Dependentes = label6.fit_transform(x.Dependentes)\n",
        "x.MultiplasLinhas = label7.fit_transform(x.MultiplasLinhas)\n",
        "x.ServicoInternet = label8.fit_transform(x.ServicoInternet)\n",
        "x.BackupOnline = label9.fit_transform(x.BackupOnline)\n",
        "x.ProtecaoDispositivo = label10.fit_transform(x.ProtecaoDispositivo)\n",
        "x.SuporteTecnico = label11.fit_transform(x.SuporteTecnico)\n",
        "x.StreamingTV = label12.fit_transform(x.StreamingTV)\n",
        "x.StreamingFilmes = label13.fit_transform(x.StreamingFilmes)\n",
        "x.ServicoTelefone = label14.fit_transform(x.ServicoTelefone)\n",
        "x.SegurancaOnline = label15.fit_transform(x.SegurancaOnline)\n"
      ],
      "execution_count": 79,
      "outputs": []
    },
    {
      "cell_type": "code",
      "metadata": {
        "colab": {
          "base_uri": "https://localhost:8080/",
          "height": 218
        },
        "id": "6OslFXzxT1ez",
        "outputId": "4c7151c9-829f-4506-be4a-3244c1e2d42e"
      },
      "source": [
        "x.head()"
      ],
      "execution_count": 80,
      "outputs": [
        {
          "output_type": "execute_result",
          "data": {
            "text/html": [
              "<div>\n",
              "<style scoped>\n",
              "    .dataframe tbody tr th:only-of-type {\n",
              "        vertical-align: middle;\n",
              "    }\n",
              "\n",
              "    .dataframe tbody tr th {\n",
              "        vertical-align: top;\n",
              "    }\n",
              "\n",
              "    .dataframe thead th {\n",
              "        text-align: right;\n",
              "    }\n",
              "</style>\n",
              "<table border=\"1\" class=\"dataframe\">\n",
              "  <thead>\n",
              "    <tr style=\"text-align: right;\">\n",
              "      <th></th>\n",
              "      <th>TempoServico</th>\n",
              "      <th>ServicoTelefone</th>\n",
              "      <th>Contrato</th>\n",
              "      <th>FaturaSemPapel</th>\n",
              "      <th>FormaPagamento</th>\n",
              "      <th>EncargosMensais</th>\n",
              "      <th>CustoTotal</th>\n",
              "      <th>Genero</th>\n",
              "      <th>Idoso</th>\n",
              "      <th>Casado</th>\n",
              "      <th>Dependentes</th>\n",
              "      <th>MultiplasLinhas</th>\n",
              "      <th>ServicoInternet</th>\n",
              "      <th>SegurancaOnline</th>\n",
              "      <th>BackupOnline</th>\n",
              "      <th>ProtecaoDispositivo</th>\n",
              "      <th>SuporteTecnico</th>\n",
              "      <th>StreamingTV</th>\n",
              "      <th>StreamingFilmes</th>\n",
              "    </tr>\n",
              "  </thead>\n",
              "  <tbody>\n",
              "    <tr>\n",
              "      <th>0</th>\n",
              "      <td>1</td>\n",
              "      <td>0</td>\n",
              "      <td>0</td>\n",
              "      <td>1</td>\n",
              "      <td>2</td>\n",
              "      <td>29.85</td>\n",
              "      <td>29.85</td>\n",
              "      <td>0</td>\n",
              "      <td>0</td>\n",
              "      <td>1</td>\n",
              "      <td>0</td>\n",
              "      <td>1</td>\n",
              "      <td>0</td>\n",
              "      <td>0</td>\n",
              "      <td>2</td>\n",
              "      <td>0</td>\n",
              "      <td>0</td>\n",
              "      <td>0</td>\n",
              "      <td>0</td>\n",
              "    </tr>\n",
              "    <tr>\n",
              "      <th>1</th>\n",
              "      <td>34</td>\n",
              "      <td>1</td>\n",
              "      <td>1</td>\n",
              "      <td>0</td>\n",
              "      <td>3</td>\n",
              "      <td>56.95</td>\n",
              "      <td>1889.50</td>\n",
              "      <td>1</td>\n",
              "      <td>0</td>\n",
              "      <td>0</td>\n",
              "      <td>0</td>\n",
              "      <td>0</td>\n",
              "      <td>0</td>\n",
              "      <td>2</td>\n",
              "      <td>0</td>\n",
              "      <td>2</td>\n",
              "      <td>0</td>\n",
              "      <td>0</td>\n",
              "      <td>0</td>\n",
              "    </tr>\n",
              "    <tr>\n",
              "      <th>2</th>\n",
              "      <td>2</td>\n",
              "      <td>1</td>\n",
              "      <td>0</td>\n",
              "      <td>1</td>\n",
              "      <td>3</td>\n",
              "      <td>53.85</td>\n",
              "      <td>108.15</td>\n",
              "      <td>1</td>\n",
              "      <td>0</td>\n",
              "      <td>0</td>\n",
              "      <td>0</td>\n",
              "      <td>0</td>\n",
              "      <td>0</td>\n",
              "      <td>2</td>\n",
              "      <td>2</td>\n",
              "      <td>0</td>\n",
              "      <td>0</td>\n",
              "      <td>0</td>\n",
              "      <td>0</td>\n",
              "    </tr>\n",
              "    <tr>\n",
              "      <th>3</th>\n",
              "      <td>45</td>\n",
              "      <td>0</td>\n",
              "      <td>1</td>\n",
              "      <td>0</td>\n",
              "      <td>0</td>\n",
              "      <td>42.30</td>\n",
              "      <td>1840.75</td>\n",
              "      <td>1</td>\n",
              "      <td>0</td>\n",
              "      <td>0</td>\n",
              "      <td>0</td>\n",
              "      <td>1</td>\n",
              "      <td>0</td>\n",
              "      <td>2</td>\n",
              "      <td>0</td>\n",
              "      <td>2</td>\n",
              "      <td>2</td>\n",
              "      <td>0</td>\n",
              "      <td>0</td>\n",
              "    </tr>\n",
              "    <tr>\n",
              "      <th>4</th>\n",
              "      <td>2</td>\n",
              "      <td>1</td>\n",
              "      <td>0</td>\n",
              "      <td>1</td>\n",
              "      <td>2</td>\n",
              "      <td>70.70</td>\n",
              "      <td>151.65</td>\n",
              "      <td>0</td>\n",
              "      <td>0</td>\n",
              "      <td>0</td>\n",
              "      <td>0</td>\n",
              "      <td>0</td>\n",
              "      <td>1</td>\n",
              "      <td>0</td>\n",
              "      <td>0</td>\n",
              "      <td>0</td>\n",
              "      <td>0</td>\n",
              "      <td>0</td>\n",
              "      <td>0</td>\n",
              "    </tr>\n",
              "  </tbody>\n",
              "</table>\n",
              "</div>"
            ],
            "text/plain": [
              "   TempoServico  ServicoTelefone  ...  StreamingTV  StreamingFilmes\n",
              "0             1                0  ...            0                0\n",
              "1            34                1  ...            0                0\n",
              "2             2                1  ...            0                0\n",
              "3            45                0  ...            0                0\n",
              "4             2                1  ...            0                0\n",
              "\n",
              "[5 rows x 19 columns]"
            ]
          },
          "metadata": {
            "tags": []
          },
          "execution_count": 80
        }
      ]
    },
    {
      "cell_type": "code",
      "metadata": {
        "colab": {
          "base_uri": "https://localhost:8080/"
        },
        "id": "1ukULI9QVbQA",
        "outputId": "23166697-1d0d-44d6-e5bc-48330209ce9b"
      },
      "source": [
        "x.columns"
      ],
      "execution_count": 81,
      "outputs": [
        {
          "output_type": "execute_result",
          "data": {
            "text/plain": [
              "Index(['TempoServico', 'ServicoTelefone', 'Contrato', 'FaturaSemPapel',\n",
              "       'FormaPagamento', 'EncargosMensais', 'CustoTotal', 'Genero', 'Idoso',\n",
              "       'Casado', 'Dependentes', 'MultiplasLinhas', 'ServicoInternet',\n",
              "       'SegurancaOnline', 'BackupOnline', 'ProtecaoDispositivo',\n",
              "       'SuporteTecnico', 'StreamingTV', 'StreamingFilmes'],\n",
              "      dtype='object')"
            ]
          },
          "metadata": {
            "tags": []
          },
          "execution_count": 81
        }
      ]
    },
    {
      "cell_type": "markdown",
      "metadata": {
        "id": "Bb1xETyoSQAY"
      },
      "source": [
        "Normalizando os dados\n",
        "\n",
        "Algumas colunas estão em escalas diferentes, a normalização fará com que todas colunas fiquem com valores numa mesma escala, de 0 a 1."
      ]
    },
    {
      "cell_type": "code",
      "metadata": {
        "id": "6IzNYIeFRsIP"
      },
      "source": [
        "from sklearn.preprocessing import MinMaxScaler\n",
        "scaler = MinMaxScaler(feature_range = (0, 1))\n",
        "X = scaler.fit_transform(x)\n",
        "colunas = ['TempoServico', 'ServicoTelefone', 'Contrato', 'FaturaSemPapel',\n",
        "       'FormaPagamento', 'EncargosMensais', 'CustoTotal', 'Genero', 'Idoso',\n",
        "       'Casado', 'Dependentes', 'MultiplasLinhas', 'ServicoInternet',\n",
        "       'SegurancaOnline', 'BackupOnline', 'ProtecaoDispositivo',\n",
        "       'SuporteTecnico', 'StreamingTV', 'StreamingFilmes']\n",
        "X = pd.DataFrame(X)\n",
        "X.columns = colunas"
      ],
      "execution_count": 82,
      "outputs": []
    },
    {
      "cell_type": "markdown",
      "metadata": {
        "id": "zOzloGbEaruz"
      },
      "source": [
        "Como ficou o dataset após a normalização"
      ]
    },
    {
      "cell_type": "code",
      "metadata": {
        "colab": {
          "base_uri": "https://localhost:8080/",
          "height": 218
        },
        "id": "1FICbRdlVmGR",
        "outputId": "7022bb3f-a080-4d00-9563-010149b1f3e8"
      },
      "source": [
        "X.head()"
      ],
      "execution_count": 84,
      "outputs": [
        {
          "output_type": "execute_result",
          "data": {
            "text/html": [
              "<div>\n",
              "<style scoped>\n",
              "    .dataframe tbody tr th:only-of-type {\n",
              "        vertical-align: middle;\n",
              "    }\n",
              "\n",
              "    .dataframe tbody tr th {\n",
              "        vertical-align: top;\n",
              "    }\n",
              "\n",
              "    .dataframe thead th {\n",
              "        text-align: right;\n",
              "    }\n",
              "</style>\n",
              "<table border=\"1\" class=\"dataframe\">\n",
              "  <thead>\n",
              "    <tr style=\"text-align: right;\">\n",
              "      <th></th>\n",
              "      <th>TempoServico</th>\n",
              "      <th>ServicoTelefone</th>\n",
              "      <th>Contrato</th>\n",
              "      <th>FaturaSemPapel</th>\n",
              "      <th>FormaPagamento</th>\n",
              "      <th>EncargosMensais</th>\n",
              "      <th>CustoTotal</th>\n",
              "      <th>Genero</th>\n",
              "      <th>Idoso</th>\n",
              "      <th>Casado</th>\n",
              "      <th>Dependentes</th>\n",
              "      <th>MultiplasLinhas</th>\n",
              "      <th>ServicoInternet</th>\n",
              "      <th>SegurancaOnline</th>\n",
              "      <th>BackupOnline</th>\n",
              "      <th>ProtecaoDispositivo</th>\n",
              "      <th>SuporteTecnico</th>\n",
              "      <th>StreamingTV</th>\n",
              "      <th>StreamingFilmes</th>\n",
              "    </tr>\n",
              "  </thead>\n",
              "  <tbody>\n",
              "    <tr>\n",
              "      <th>0</th>\n",
              "      <td>0.013889</td>\n",
              "      <td>0.0</td>\n",
              "      <td>0.0</td>\n",
              "      <td>1.0</td>\n",
              "      <td>0.666667</td>\n",
              "      <td>0.115423</td>\n",
              "      <td>0.001275</td>\n",
              "      <td>0.0</td>\n",
              "      <td>0.0</td>\n",
              "      <td>1.0</td>\n",
              "      <td>0.0</td>\n",
              "      <td>0.5</td>\n",
              "      <td>0.0</td>\n",
              "      <td>0.0</td>\n",
              "      <td>1.0</td>\n",
              "      <td>0.0</td>\n",
              "      <td>0.0</td>\n",
              "      <td>0.0</td>\n",
              "      <td>0.0</td>\n",
              "    </tr>\n",
              "    <tr>\n",
              "      <th>1</th>\n",
              "      <td>0.472222</td>\n",
              "      <td>1.0</td>\n",
              "      <td>0.5</td>\n",
              "      <td>0.0</td>\n",
              "      <td>1.000000</td>\n",
              "      <td>0.385075</td>\n",
              "      <td>0.215867</td>\n",
              "      <td>1.0</td>\n",
              "      <td>0.0</td>\n",
              "      <td>0.0</td>\n",
              "      <td>0.0</td>\n",
              "      <td>0.0</td>\n",
              "      <td>0.0</td>\n",
              "      <td>1.0</td>\n",
              "      <td>0.0</td>\n",
              "      <td>1.0</td>\n",
              "      <td>0.0</td>\n",
              "      <td>0.0</td>\n",
              "      <td>0.0</td>\n",
              "    </tr>\n",
              "    <tr>\n",
              "      <th>2</th>\n",
              "      <td>0.027778</td>\n",
              "      <td>1.0</td>\n",
              "      <td>0.0</td>\n",
              "      <td>1.0</td>\n",
              "      <td>1.000000</td>\n",
              "      <td>0.354229</td>\n",
              "      <td>0.010310</td>\n",
              "      <td>1.0</td>\n",
              "      <td>0.0</td>\n",
              "      <td>0.0</td>\n",
              "      <td>0.0</td>\n",
              "      <td>0.0</td>\n",
              "      <td>0.0</td>\n",
              "      <td>1.0</td>\n",
              "      <td>1.0</td>\n",
              "      <td>0.0</td>\n",
              "      <td>0.0</td>\n",
              "      <td>0.0</td>\n",
              "      <td>0.0</td>\n",
              "    </tr>\n",
              "    <tr>\n",
              "      <th>3</th>\n",
              "      <td>0.625000</td>\n",
              "      <td>0.0</td>\n",
              "      <td>0.5</td>\n",
              "      <td>0.0</td>\n",
              "      <td>0.000000</td>\n",
              "      <td>0.239303</td>\n",
              "      <td>0.210241</td>\n",
              "      <td>1.0</td>\n",
              "      <td>0.0</td>\n",
              "      <td>0.0</td>\n",
              "      <td>0.0</td>\n",
              "      <td>0.5</td>\n",
              "      <td>0.0</td>\n",
              "      <td>1.0</td>\n",
              "      <td>0.0</td>\n",
              "      <td>1.0</td>\n",
              "      <td>1.0</td>\n",
              "      <td>0.0</td>\n",
              "      <td>0.0</td>\n",
              "    </tr>\n",
              "    <tr>\n",
              "      <th>4</th>\n",
              "      <td>0.027778</td>\n",
              "      <td>1.0</td>\n",
              "      <td>0.0</td>\n",
              "      <td>1.0</td>\n",
              "      <td>0.666667</td>\n",
              "      <td>0.521891</td>\n",
              "      <td>0.015330</td>\n",
              "      <td>0.0</td>\n",
              "      <td>0.0</td>\n",
              "      <td>0.0</td>\n",
              "      <td>0.0</td>\n",
              "      <td>0.0</td>\n",
              "      <td>0.5</td>\n",
              "      <td>0.0</td>\n",
              "      <td>0.0</td>\n",
              "      <td>0.0</td>\n",
              "      <td>0.0</td>\n",
              "      <td>0.0</td>\n",
              "      <td>0.0</td>\n",
              "    </tr>\n",
              "  </tbody>\n",
              "</table>\n",
              "</div>"
            ],
            "text/plain": [
              "   TempoServico  ServicoTelefone  ...  StreamingTV  StreamingFilmes\n",
              "0      0.013889              0.0  ...          0.0              0.0\n",
              "1      0.472222              1.0  ...          0.0              0.0\n",
              "2      0.027778              1.0  ...          0.0              0.0\n",
              "3      0.625000              0.0  ...          0.0              0.0\n",
              "4      0.027778              1.0  ...          0.0              0.0\n",
              "\n",
              "[5 rows x 19 columns]"
            ]
          },
          "metadata": {
            "tags": []
          },
          "execution_count": 84
        }
      ]
    },
    {
      "cell_type": "markdown",
      "metadata": {
        "id": "lOzjWiP6Vwt2"
      },
      "source": [
        "Separando os dados de treino e teste"
      ]
    },
    {
      "cell_type": "code",
      "metadata": {
        "id": "1RKrGi3tVost"
      },
      "source": [
        "from sklearn.model_selection import train_test_split\n",
        "x_train, x_test, y_train, y_test = train_test_split(X, y, test_size=0.3, random_state=42) "
      ],
      "execution_count": 85,
      "outputs": []
    },
    {
      "cell_type": "markdown",
      "metadata": {
        "id": "TS2K3pyMWKVr"
      },
      "source": [
        "Para definir as features mais importantes iremos utilizar o algoritmo de Árvore de Decisão para encontrar as variáveis que mais influenciam na criação do modelo"
      ]
    },
    {
      "cell_type": "code",
      "metadata": {
        "id": "TGYL3lGrV9QX"
      },
      "source": [
        "from sklearn.tree import DecisionTreeClassifier\n",
        "\n",
        "arvore = DecisionTreeClassifier()\n",
        "arvore.fit(x_train, y_train)\n",
        "result = arvore.predict(x_test)"
      ],
      "execution_count": 86,
      "outputs": []
    },
    {
      "cell_type": "code",
      "metadata": {
        "colab": {
          "base_uri": "https://localhost:8080/"
        },
        "id": "v-gr5URmWN8c",
        "outputId": "acaf9c80-d2bf-47fa-c870-aa2923221611"
      },
      "source": [
        "from sklearn import metrics\n",
        "from sklearn.metrics import confusion_matrix\n",
        "print(arvore.score(x_test, y_test))\n",
        "print(confusion_matrix(y_test, result))\n",
        "print(metrics.classification_report(y_test, result))"
      ],
      "execution_count": 87,
      "outputs": [
        {
          "output_type": "stream",
          "text": [
            "0.7406530998580217\n",
            "[[1281  258]\n",
            " [ 290  284]]\n",
            "              precision    recall  f1-score   support\n",
            "\n",
            "         Não       0.82      0.83      0.82      1539\n",
            "         Sim       0.52      0.49      0.51       574\n",
            "\n",
            "    accuracy                           0.74      2113\n",
            "   macro avg       0.67      0.66      0.67      2113\n",
            "weighted avg       0.74      0.74      0.74      2113\n",
            "\n"
          ],
          "name": "stdout"
        }
      ]
    },
    {
      "cell_type": "code",
      "metadata": {
        "colab": {
          "base_uri": "https://localhost:8080/"
        },
        "id": "BNVb7jyjWQGx",
        "outputId": "e553266c-1862-42e0-9f7e-f19120837afc"
      },
      "source": [
        "arvore.feature_importances_"
      ],
      "execution_count": 88,
      "outputs": [
        {
          "output_type": "execute_result",
          "data": {
            "text/plain": [
              "array([0.11779158, 0.00354848, 0.16540078, 0.02053651, 0.03937387,\n",
              "       0.20434917, 0.21004382, 0.02789333, 0.01957992, 0.02715287,\n",
              "       0.01728403, 0.01984618, 0.02521074, 0.04473095, 0.01287847,\n",
              "       0.01591112, 0.01275861, 0.00513124, 0.01057831])"
            ]
          },
          "metadata": {
            "tags": []
          },
          "execution_count": 88
        }
      ]
    },
    {
      "cell_type": "code",
      "metadata": {
        "id": "NDy9KqziWVrj"
      },
      "source": [
        "feature_imp = pd.Series(arvore.feature_importances_, index=X.columns)"
      ],
      "execution_count": 89,
      "outputs": []
    },
    {
      "cell_type": "code",
      "metadata": {
        "colab": {
          "base_uri": "https://localhost:8080/"
        },
        "id": "-4ACjIIXWaN2",
        "outputId": "1247b8b3-63aa-4289-e825-4c84fc3bf393"
      },
      "source": [
        "feature_imp.sort_values(ascending=False)"
      ],
      "execution_count": 90,
      "outputs": [
        {
          "output_type": "execute_result",
          "data": {
            "text/plain": [
              "CustoTotal             0.210044\n",
              "EncargosMensais        0.204349\n",
              "Contrato               0.165401\n",
              "TempoServico           0.117792\n",
              "SegurancaOnline        0.044731\n",
              "FormaPagamento         0.039374\n",
              "Genero                 0.027893\n",
              "Casado                 0.027153\n",
              "ServicoInternet        0.025211\n",
              "FaturaSemPapel         0.020537\n",
              "MultiplasLinhas        0.019846\n",
              "Idoso                  0.019580\n",
              "Dependentes            0.017284\n",
              "ProtecaoDispositivo    0.015911\n",
              "BackupOnline           0.012878\n",
              "SuporteTecnico         0.012759\n",
              "StreamingFilmes        0.010578\n",
              "StreamingTV            0.005131\n",
              "ServicoTelefone        0.003548\n",
              "dtype: float64"
            ]
          },
          "metadata": {
            "tags": []
          },
          "execution_count": 90
        }
      ]
    },
    {
      "cell_type": "code",
      "metadata": {
        "id": "__8AeEjbWcgq",
        "colab": {
          "base_uri": "https://localhost:8080/",
          "height": 390
        },
        "outputId": "787b8f23-433c-4fbc-a0ed-c5e59a4339fd"
      },
      "source": [
        "plt.figure(figsize=(12, 6))\n",
        "feature_imp_sort = feature_imp.sort_values(ascending=False)\n",
        "sns.barplot(x=feature_imp_sort, y=feature_imp_sort.index)\n",
        "plt.title(\"Importância de Features\")\n",
        "plt.show()"
      ],
      "execution_count": 91,
      "outputs": [
        {
          "output_type": "display_data",
          "data": {
            "image/png": "[encoded data removed]",
            "text/plain": [
              "<Figure size 864x432 with 1 Axes>"
            ]
          },
          "metadata": {
            "tags": [],
            "needs_background": "light"
          }
        }
      ]
    },
    {
      "cell_type": "markdown",
      "metadata": {
        "id": "6WdIlYEbXnSs"
      },
      "source": [
        "Para treinar um modelo precisamos testar vários algoritmos para identificar qual terá o melhor desempenho"
      ]
    },
    {
      "cell_type": "code",
      "metadata": {
        "id": "OGEioDy4X0hn"
      },
      "source": [
        "from sklearn.ensemble import RandomForestClassifier\n",
        "from sklearn.linear_model import LogisticRegression\n",
        "from sklearn.naive_bayes import GaussianNB\n",
        "from sklearn.svm import SVC\n",
        "from sklearn.neural_network import MLPClassifier\n",
        "from sklearn.preprocessing import StandardScaler\n",
        "from sklearn.neighbors import KNeighborsClassifier"
      ],
      "execution_count": 92,
      "outputs": []
    },
    {
      "cell_type": "code",
      "metadata": {
        "id": "yIcfpwuFWhjr",
        "colab": {
          "base_uri": "https://localhost:8080/"
        },
        "outputId": "bb0240ea-dac4-41fe-a80a-285e3ad14a8b"
      },
      "source": [
        "from sklearn.model_selection import KFold, cross_val_score, StratifiedKFold, train_test_split, GridSearchCV\n",
        "\n",
        "# Definindo os valores para o número de folds\n",
        "num_folds = 5\n",
        "num_instances = len(X)\n",
        "seed = 7\n",
        "\n",
        "# Preparando o modelo\n",
        "\n",
        "modelos = []\n",
        "modelos.append((\"LogisticRegression\", LogisticRegression()))\n",
        "modelos.append((\"DecisionTreeClassifier\", DecisionTreeClassifier(random_state=0, max_depth=30, max_features=5)))\n",
        "modelos.append((\"KNeighborsClassifier\", KNeighborsClassifier(n_neighbors=17, p=1)))\n",
        "modelos.append((\"MLPClassifier\", MLPClassifier(hidden_layer_sizes=(20, 10, 20), max_iter=3000)))\n",
        "modelos.append((\"SuportVectorMachine\", SVC(kernel='linear', gamma='auto')))\n",
        "modelos.append((\"NaiveBayes\", GaussianNB()))\n",
        "modelos.append((\"RandomForestClassifier\", RandomForestClassifier(n_estimators=200, criterion='entropy', n_jobs=-1, max_depth=100, \n",
        "                                                                 bootstrap=True, random_state=0)))\n",
        "\n",
        "# Avaliando cada modelo\n",
        "resultados = []\n",
        "nomes = []\n",
        "\n",
        "for nome, modelo in modelos:\n",
        "   kfold = KFold(n_splits = num_folds, shuffle=True, random_state = seed)\n",
        "   cv_results = cross_val_score(modelo, X, y, cv = kfold, scoring = 'f1_macro')\n",
        "   resultados.append(cv_results)\n",
        "   nomes.append(nome)\n",
        "   #msg = \"%s - f1-score: %f, Desvio Padrão: %f\" % (nome, cv_results.mean(), cv_results.std())\n",
        "   msg = f\"{nome} - f1-score: {cv_results.mean()}, Desvio Padrão: {cv_results.std()}\"\n",
        "   print(msg)"
      ],
      "execution_count": 93,
      "outputs": [
        {
          "output_type": "stream",
          "text": [
            "LogisticRegression - f1-score: 0.7292457537866216, Desvio Padrão: 0.020212067543485365\n",
            "DecisionTreeClassifier - f1-score: 0.6487969353008232, Desvio Padrão: 0.010123753958201835\n",
            "KNeighborsClassifier - f1-score: 0.7061056094380663, Desvio Padrão: 0.019403661099774167\n",
            "MLPClassifier - f1-score: 0.6946694727832832, Desvio Padrão: 0.013807341123055577\n",
            "SuportVectorMachine - f1-score: 0.7213140774754143, Desvio Padrão: 0.022757234590723555\n",
            "NaiveBayes - f1-score: 0.7165105542227828, Desvio Padrão: 0.012477150323278955\n",
            "RandomForestClassifier - f1-score: 0.7067753251947481, Desvio Padrão: 0.01716167970638396\n"
          ],
          "name": "stdout"
        }
      ]
    },
    {
      "cell_type": "markdown",
      "metadata": {
        "id": "14IiY3mScEkr"
      },
      "source": [
        "Transformando esses resultados em um Dataframe"
      ]
    },
    {
      "cell_type": "code",
      "metadata": {
        "colab": {
          "base_uri": "https://localhost:8080/",
          "height": 258
        },
        "id": "vHtuKzUGYtJq",
        "outputId": "bd2dc89e-f049-4af8-cd5f-06176079348f"
      },
      "source": [
        "df_resultado = pd.DataFrame(resultados, columns=[\"Resultado1\", \"Resultado2\", \"Resultado3\", \"Resultado4\", \"Resultado5\"])\n",
        "df_resultado"
      ],
      "execution_count": 94,
      "outputs": [
        {
          "output_type": "execute_result",
          "data": {
            "text/html": [
              "<div>\n",
              "<style scoped>\n",
              "    .dataframe tbody tr th:only-of-type {\n",
              "        vertical-align: middle;\n",
              "    }\n",
              "\n",
              "    .dataframe tbody tr th {\n",
              "        vertical-align: top;\n",
              "    }\n",
              "\n",
              "    .dataframe thead th {\n",
              "        text-align: right;\n",
              "    }\n",
              "</style>\n",
              "<table border=\"1\" class=\"dataframe\">\n",
              "  <thead>\n",
              "    <tr style=\"text-align: right;\">\n",
              "      <th></th>\n",
              "      <th>Resultado1</th>\n",
              "      <th>Resultado2</th>\n",
              "      <th>Resultado3</th>\n",
              "      <th>Resultado4</th>\n",
              "      <th>Resultado5</th>\n",
              "    </tr>\n",
              "  </thead>\n",
              "  <tbody>\n",
              "    <tr>\n",
              "      <th>0</th>\n",
              "      <td>0.746720</td>\n",
              "      <td>0.706888</td>\n",
              "      <td>0.702682</td>\n",
              "      <td>0.749290</td>\n",
              "      <td>0.740649</td>\n",
              "    </tr>\n",
              "    <tr>\n",
              "      <th>1</th>\n",
              "      <td>0.659169</td>\n",
              "      <td>0.635316</td>\n",
              "      <td>0.642666</td>\n",
              "      <td>0.661869</td>\n",
              "      <td>0.644966</td>\n",
              "    </tr>\n",
              "    <tr>\n",
              "      <th>2</th>\n",
              "      <td>0.731446</td>\n",
              "      <td>0.683366</td>\n",
              "      <td>0.686556</td>\n",
              "      <td>0.724515</td>\n",
              "      <td>0.704645</td>\n",
              "    </tr>\n",
              "    <tr>\n",
              "      <th>3</th>\n",
              "      <td>0.699939</td>\n",
              "      <td>0.685174</td>\n",
              "      <td>0.672623</td>\n",
              "      <td>0.706374</td>\n",
              "      <td>0.709237</td>\n",
              "    </tr>\n",
              "    <tr>\n",
              "      <th>4</th>\n",
              "      <td>0.727676</td>\n",
              "      <td>0.706888</td>\n",
              "      <td>0.684748</td>\n",
              "      <td>0.745608</td>\n",
              "      <td>0.741650</td>\n",
              "    </tr>\n",
              "    <tr>\n",
              "      <th>5</th>\n",
              "      <td>0.723073</td>\n",
              "      <td>0.692457</td>\n",
              "      <td>0.717086</td>\n",
              "      <td>0.727554</td>\n",
              "      <td>0.722382</td>\n",
              "    </tr>\n",
              "    <tr>\n",
              "      <th>6</th>\n",
              "      <td>0.713234</td>\n",
              "      <td>0.698065</td>\n",
              "      <td>0.687130</td>\n",
              "      <td>0.736820</td>\n",
              "      <td>0.698627</td>\n",
              "    </tr>\n",
              "  </tbody>\n",
              "</table>\n",
              "</div>"
            ],
            "text/plain": [
              "   Resultado1  Resultado2  Resultado3  Resultado4  Resultado5\n",
              "0    0.746720    0.706888    0.702682    0.749290    0.740649\n",
              "1    0.659169    0.635316    0.642666    0.661869    0.644966\n",
              "2    0.731446    0.683366    0.686556    0.724515    0.704645\n",
              "3    0.699939    0.685174    0.672623    0.706374    0.709237\n",
              "4    0.727676    0.706888    0.684748    0.745608    0.741650\n",
              "5    0.723073    0.692457    0.717086    0.727554    0.722382\n",
              "6    0.713234    0.698065    0.687130    0.736820    0.698627"
            ]
          },
          "metadata": {
            "tags": []
          },
          "execution_count": 94
        }
      ]
    },
    {
      "cell_type": "code",
      "metadata": {
        "colab": {
          "base_uri": "https://localhost:8080/",
          "height": 258
        },
        "id": "ONhKcHpuY07G",
        "outputId": "eef04632-254c-481c-db0a-2b739def3eae"
      },
      "source": [
        "df_nomes = pd.DataFrame(nomes, columns=[\"Nomes\"])\n",
        "df_nomes"
      ],
      "execution_count": 95,
      "outputs": [
        {
          "output_type": "execute_result",
          "data": {
            "text/html": [
              "<div>\n",
              "<style scoped>\n",
              "    .dataframe tbody tr th:only-of-type {\n",
              "        vertical-align: middle;\n",
              "    }\n",
              "\n",
              "    .dataframe tbody tr th {\n",
              "        vertical-align: top;\n",
              "    }\n",
              "\n",
              "    .dataframe thead th {\n",
              "        text-align: right;\n",
              "    }\n",
              "</style>\n",
              "<table border=\"1\" class=\"dataframe\">\n",
              "  <thead>\n",
              "    <tr style=\"text-align: right;\">\n",
              "      <th></th>\n",
              "      <th>Nomes</th>\n",
              "    </tr>\n",
              "  </thead>\n",
              "  <tbody>\n",
              "    <tr>\n",
              "      <th>0</th>\n",
              "      <td>LogisticRegression</td>\n",
              "    </tr>\n",
              "    <tr>\n",
              "      <th>1</th>\n",
              "      <td>DecisionTreeClassifier</td>\n",
              "    </tr>\n",
              "    <tr>\n",
              "      <th>2</th>\n",
              "      <td>KNeighborsClassifier</td>\n",
              "    </tr>\n",
              "    <tr>\n",
              "      <th>3</th>\n",
              "      <td>MLPClassifier</td>\n",
              "    </tr>\n",
              "    <tr>\n",
              "      <th>4</th>\n",
              "      <td>SuportVectorMachine</td>\n",
              "    </tr>\n",
              "    <tr>\n",
              "      <th>5</th>\n",
              "      <td>NaiveBayes</td>\n",
              "    </tr>\n",
              "    <tr>\n",
              "      <th>6</th>\n",
              "      <td>RandomForestClassifier</td>\n",
              "    </tr>\n",
              "  </tbody>\n",
              "</table>\n",
              "</div>"
            ],
            "text/plain": [
              "                    Nomes\n",
              "0      LogisticRegression\n",
              "1  DecisionTreeClassifier\n",
              "2    KNeighborsClassifier\n",
              "3           MLPClassifier\n",
              "4     SuportVectorMachine\n",
              "5              NaiveBayes\n",
              "6  RandomForestClassifier"
            ]
          },
          "metadata": {
            "tags": []
          },
          "execution_count": 95
        }
      ]
    },
    {
      "cell_type": "markdown",
      "metadata": {
        "id": "kfIcC5EfcX7n"
      },
      "source": [
        "Agora podemos juntar o Dataframe de nomes e os resultados após cada treinamento"
      ]
    },
    {
      "cell_type": "code",
      "metadata": {
        "colab": {
          "base_uri": "https://localhost:8080/",
          "height": 258
        },
        "id": "PvkPfoYwY7-T",
        "outputId": "9f483d4a-e523-43d1-b556-0ae2d6fc2bd3"
      },
      "source": [
        "nome_resultado = pd.concat([df_nomes, df_resultado], axis=1)\n",
        "nome_resultado"
      ],
      "execution_count": 96,
      "outputs": [
        {
          "output_type": "execute_result",
          "data": {
            "text/html": [
              "<div>\n",
              "<style scoped>\n",
              "    .dataframe tbody tr th:only-of-type {\n",
              "        vertical-align: middle;\n",
              "    }\n",
              "\n",
              "    .dataframe tbody tr th {\n",
              "        vertical-align: top;\n",
              "    }\n",
              "\n",
              "    .dataframe thead th {\n",
              "        text-align: right;\n",
              "    }\n",
              "</style>\n",
              "<table border=\"1\" class=\"dataframe\">\n",
              "  <thead>\n",
              "    <tr style=\"text-align: right;\">\n",
              "      <th></th>\n",
              "      <th>Nomes</th>\n",
              "      <th>Resultado1</th>\n",
              "      <th>Resultado2</th>\n",
              "      <th>Resultado3</th>\n",
              "      <th>Resultado4</th>\n",
              "      <th>Resultado5</th>\n",
              "    </tr>\n",
              "  </thead>\n",
              "  <tbody>\n",
              "    <tr>\n",
              "      <th>0</th>\n",
              "      <td>LogisticRegression</td>\n",
              "      <td>0.746720</td>\n",
              "      <td>0.706888</td>\n",
              "      <td>0.702682</td>\n",
              "      <td>0.749290</td>\n",
              "      <td>0.740649</td>\n",
              "    </tr>\n",
              "    <tr>\n",
              "      <th>1</th>\n",
              "      <td>DecisionTreeClassifier</td>\n",
              "      <td>0.659169</td>\n",
              "      <td>0.635316</td>\n",
              "      <td>0.642666</td>\n",
              "      <td>0.661869</td>\n",
              "      <td>0.644966</td>\n",
              "    </tr>\n",
              "    <tr>\n",
              "      <th>2</th>\n",
              "      <td>KNeighborsClassifier</td>\n",
              "      <td>0.731446</td>\n",
              "      <td>0.683366</td>\n",
              "      <td>0.686556</td>\n",
              "      <td>0.724515</td>\n",
              "      <td>0.704645</td>\n",
              "    </tr>\n",
              "    <tr>\n",
              "      <th>3</th>\n",
              "      <td>MLPClassifier</td>\n",
              "      <td>0.699939</td>\n",
              "      <td>0.685174</td>\n",
              "      <td>0.672623</td>\n",
              "      <td>0.706374</td>\n",
              "      <td>0.709237</td>\n",
              "    </tr>\n",
              "    <tr>\n",
              "      <th>4</th>\n",
              "      <td>SuportVectorMachine</td>\n",
              "      <td>0.727676</td>\n",
              "      <td>0.706888</td>\n",
              "      <td>0.684748</td>\n",
              "      <td>0.745608</td>\n",
              "      <td>0.741650</td>\n",
              "    </tr>\n",
              "    <tr>\n",
              "      <th>5</th>\n",
              "      <td>NaiveBayes</td>\n",
              "      <td>0.723073</td>\n",
              "      <td>0.692457</td>\n",
              "      <td>0.717086</td>\n",
              "      <td>0.727554</td>\n",
              "      <td>0.722382</td>\n",
              "    </tr>\n",
              "    <tr>\n",
              "      <th>6</th>\n",
              "      <td>RandomForestClassifier</td>\n",
              "      <td>0.713234</td>\n",
              "      <td>0.698065</td>\n",
              "      <td>0.687130</td>\n",
              "      <td>0.736820</td>\n",
              "      <td>0.698627</td>\n",
              "    </tr>\n",
              "  </tbody>\n",
              "</table>\n",
              "</div>"
            ],
            "text/plain": [
              "                    Nomes  Resultado1  ...  Resultado4  Resultado5\n",
              "0      LogisticRegression    0.746720  ...    0.749290    0.740649\n",
              "1  DecisionTreeClassifier    0.659169  ...    0.661869    0.644966\n",
              "2    KNeighborsClassifier    0.731446  ...    0.724515    0.704645\n",
              "3           MLPClassifier    0.699939  ...    0.706374    0.709237\n",
              "4     SuportVectorMachine    0.727676  ...    0.745608    0.741650\n",
              "5              NaiveBayes    0.723073  ...    0.727554    0.722382\n",
              "6  RandomForestClassifier    0.713234  ...    0.736820    0.698627\n",
              "\n",
              "[7 rows x 6 columns]"
            ]
          },
          "metadata": {
            "tags": []
          },
          "execution_count": 96
        }
      ]
    },
    {
      "cell_type": "markdown",
      "metadata": {
        "id": "4coHHhQncepB"
      },
      "source": [
        "Criando uma coluna com a media dos resultados obtidos em cada treinamento"
      ]
    },
    {
      "cell_type": "code",
      "metadata": {
        "colab": {
          "base_uri": "https://localhost:8080/",
          "height": 258
        },
        "id": "SbdQLtNoZBDj",
        "outputId": "dc2bcf15-8a00-478f-d3dc-5766dbf340c3"
      },
      "source": [
        "nome_resultado[\"Media\"] = (nome_resultado[\"Resultado1\"]+ nome_resultado[\"Resultado2\"]+ nome_resultado[\"Resultado3\"]+ \n",
        "                           nome_resultado[\"Resultado4\"]+ nome_resultado[\"Resultado5\"]) / 5\n",
        "\n",
        "nome_resultado.sort_values(by=\"Media\", ascending=False)"
      ],
      "execution_count": 97,
      "outputs": [
        {
          "output_type": "execute_result",
          "data": {
            "text/html": [
              "<div>\n",
              "<style scoped>\n",
              "    .dataframe tbody tr th:only-of-type {\n",
              "        vertical-align: middle;\n",
              "    }\n",
              "\n",
              "    .dataframe tbody tr th {\n",
              "        vertical-align: top;\n",
              "    }\n",
              "\n",
              "    .dataframe thead th {\n",
              "        text-align: right;\n",
              "    }\n",
              "</style>\n",
              "<table border=\"1\" class=\"dataframe\">\n",
              "  <thead>\n",
              "    <tr style=\"text-align: right;\">\n",
              "      <th></th>\n",
              "      <th>Nomes</th>\n",
              "      <th>Resultado1</th>\n",
              "      <th>Resultado2</th>\n",
              "      <th>Resultado3</th>\n",
              "      <th>Resultado4</th>\n",
              "      <th>Resultado5</th>\n",
              "      <th>Media</th>\n",
              "    </tr>\n",
              "  </thead>\n",
              "  <tbody>\n",
              "    <tr>\n",
              "      <th>0</th>\n",
              "      <td>LogisticRegression</td>\n",
              "      <td>0.746720</td>\n",
              "      <td>0.706888</td>\n",
              "      <td>0.702682</td>\n",
              "      <td>0.749290</td>\n",
              "      <td>0.740649</td>\n",
              "      <td>0.729246</td>\n",
              "    </tr>\n",
              "    <tr>\n",
              "      <th>4</th>\n",
              "      <td>SuportVectorMachine</td>\n",
              "      <td>0.727676</td>\n",
              "      <td>0.706888</td>\n",
              "      <td>0.684748</td>\n",
              "      <td>0.745608</td>\n",
              "      <td>0.741650</td>\n",
              "      <td>0.721314</td>\n",
              "    </tr>\n",
              "    <tr>\n",
              "      <th>5</th>\n",
              "      <td>NaiveBayes</td>\n",
              "      <td>0.723073</td>\n",
              "      <td>0.692457</td>\n",
              "      <td>0.717086</td>\n",
              "      <td>0.727554</td>\n",
              "      <td>0.722382</td>\n",
              "      <td>0.716511</td>\n",
              "    </tr>\n",
              "    <tr>\n",
              "      <th>6</th>\n",
              "      <td>RandomForestClassifier</td>\n",
              "      <td>0.713234</td>\n",
              "      <td>0.698065</td>\n",
              "      <td>0.687130</td>\n",
              "      <td>0.736820</td>\n",
              "      <td>0.698627</td>\n",
              "      <td>0.706775</td>\n",
              "    </tr>\n",
              "    <tr>\n",
              "      <th>2</th>\n",
              "      <td>KNeighborsClassifier</td>\n",
              "      <td>0.731446</td>\n",
              "      <td>0.683366</td>\n",
              "      <td>0.686556</td>\n",
              "      <td>0.724515</td>\n",
              "      <td>0.704645</td>\n",
              "      <td>0.706106</td>\n",
              "    </tr>\n",
              "    <tr>\n",
              "      <th>3</th>\n",
              "      <td>MLPClassifier</td>\n",
              "      <td>0.699939</td>\n",
              "      <td>0.685174</td>\n",
              "      <td>0.672623</td>\n",
              "      <td>0.706374</td>\n",
              "      <td>0.709237</td>\n",
              "      <td>0.694669</td>\n",
              "    </tr>\n",
              "    <tr>\n",
              "      <th>1</th>\n",
              "      <td>DecisionTreeClassifier</td>\n",
              "      <td>0.659169</td>\n",
              "      <td>0.635316</td>\n",
              "      <td>0.642666</td>\n",
              "      <td>0.661869</td>\n",
              "      <td>0.644966</td>\n",
              "      <td>0.648797</td>\n",
              "    </tr>\n",
              "  </tbody>\n",
              "</table>\n",
              "</div>"
            ],
            "text/plain": [
              "                    Nomes  Resultado1  ...  Resultado5     Media\n",
              "0      LogisticRegression    0.746720  ...    0.740649  0.729246\n",
              "4     SuportVectorMachine    0.727676  ...    0.741650  0.721314\n",
              "5              NaiveBayes    0.723073  ...    0.722382  0.716511\n",
              "6  RandomForestClassifier    0.713234  ...    0.698627  0.706775\n",
              "2    KNeighborsClassifier    0.731446  ...    0.704645  0.706106\n",
              "3           MLPClassifier    0.699939  ...    0.709237  0.694669\n",
              "1  DecisionTreeClassifier    0.659169  ...    0.644966  0.648797\n",
              "\n",
              "[7 rows x 7 columns]"
            ]
          },
          "metadata": {
            "tags": []
          },
          "execution_count": 97
        }
      ]
    },
    {
      "cell_type": "markdown",
      "metadata": {
        "id": "nXd3p64MclCZ"
      },
      "source": [
        "Com a média dos resultados obtidos após o treinamento, este gráfico pode nos mostrar de forma mais visível o desempenho de cada modelo"
      ]
    },
    {
      "cell_type": "code",
      "metadata": {
        "id": "THnxczN9ZIJ_",
        "colab": {
          "base_uri": "https://localhost:8080/",
          "height": 422
        },
        "outputId": "fb4c3aa9-0e8c-42a6-c48b-545ac6398585"
      },
      "source": [
        "fig = plt.figure(figsize = (18, 6))\n",
        "splot = sns.barplot(x=\"Nomes\", y=\"Media\", data=nome_resultado.sort_values(by=\"Media\", ascending=False))\n",
        "\n",
        "for p in splot.patches:\n",
        "    splot.annotate(format(p.get_height(), '.6f'), \n",
        "    (p.get_x() + p.get_width() / 2., p.get_height()), \n",
        "    ha = 'center', va = 'center', \n",
        "    xytext = (0, 9), \n",
        "    textcoords = 'offset points')\n",
        "\n",
        "plt.title(\"Desempenho de cada modelo treinado\")"
      ],
      "execution_count": 98,
      "outputs": [
        {
          "output_type": "execute_result",
          "data": {
            "text/plain": [
              "Text(0.5, 1.0, 'Desempenho de cada modelo treinado')"
            ]
          },
          "metadata": {
            "tags": []
          },
          "execution_count": 98
        },
        {
          "output_type": "display_data",
          "data": {
            "image/png": "[encoded data removed]",
            "text/plain": [
              "<Figure size 1296x432 with 1 Axes>"
            ]
          },
          "metadata": {
            "tags": [],
            "needs_background": "light"
          }
        }
      ]
    },
    {
      "cell_type": "markdown",
      "metadata": {
        "id": "46g8OGtdk2ju"
      },
      "source": [
        "Após estes resultados, podemos tentar melhorar o desempenho. Para isso vamos treinar o modelo novamente somente com as 5 variáveis mais importantes"
      ]
    },
    {
      "cell_type": "code",
      "metadata": {
        "id": "_xYh7xZ-k2Uu"
      },
      "source": [
        "X2 = X[[\"CustoTotal\", \"EncargosMensais\", \"Contrato\", \"TempoServico\", \"SegurancaOnline\"]]"
      ],
      "execution_count": 99,
      "outputs": []
    },
    {
      "cell_type": "markdown",
      "metadata": {
        "id": "zar2VuNZdjxB"
      },
      "source": [
        "Definidas um novo conjunto de dados, realizaremos um treinamento com cada modelo novamente"
      ]
    },
    {
      "cell_type": "code",
      "metadata": {
        "id": "OiEfK2T-ZOSW",
        "colab": {
          "base_uri": "https://localhost:8080/"
        },
        "outputId": "eecea80a-df22-4b5e-e636-7be75ff97e71"
      },
      "source": [
        "num_folds = 5\n",
        "num_instances = len(X2)\n",
        "seed = 7\n",
        "\n",
        "modelos = []\n",
        "modelos.append((\"LogisticRegression\", LogisticRegression()))\n",
        "modelos.append((\"DecisionTreeClassifier\", DecisionTreeClassifier(random_state=0, max_depth=30, max_features=5)))\n",
        "modelos.append((\"KNeighborsClassifier\", KNeighborsClassifier(n_neighbors=17, p=1)))\n",
        "modelos.append((\"MLPClassifier\", MLPClassifier(hidden_layer_sizes=(20, 10, 20), max_iter=3000)))\n",
        "modelos.append((\"SuportVectorMachine\", SVC(kernel='linear', gamma='auto')))\n",
        "modelos.append((\"NaiveBayes\", GaussianNB()))\n",
        "modelos.append((\"RandomForestClassifier\", RandomForestClassifier(n_estimators=200, criterion='entropy', n_jobs=-1, max_depth=100, \n",
        "                                                                 bootstrap=True, random_state=0)))\n",
        "\n",
        "# Avaliando cada modelo\n",
        "resultados = []\n",
        "nomes = []\n",
        "\n",
        "for nome, modelo in modelos:\n",
        "   kfold = KFold(n_splits = num_folds, shuffle=True, random_state = seed)\n",
        "   cv_results = cross_val_score(modelo, X2, y, cv = kfold, scoring = 'f1_macro')\n",
        "   resultados.append(cv_results)\n",
        "   nomes.append(nome)\n",
        "   msg = f\"{nome} - f1-score: {cv_results.mean()}, Desvio Padrão: {cv_results.std()}\"\n",
        "   print(msg)"
      ],
      "execution_count": 101,
      "outputs": [
        {
          "output_type": "stream",
          "text": [
            "LogisticRegression - f1-score: 0.7076035972074072, Desvio Padrão: 0.013826855005988943\n",
            "DecisionTreeClassifier - f1-score: 0.6516745961527631, Desvio Padrão: 0.011243648352828829\n",
            "KNeighborsClassifier - f1-score: 0.7036165898789619, Desvio Padrão: 0.020049747378579393\n",
            "MLPClassifier - f1-score: 0.7070000791544637, Desvio Padrão: 0.015915543911482515\n",
            "SuportVectorMachine - f1-score: 0.71135860286622, Desvio Padrão: 0.013408417762713504\n",
            "NaiveBayes - f1-score: 0.6976152525209647, Desvio Padrão: 0.007228527913837788\n",
            "RandomForestClassifier - f1-score: 0.6853653841383347, Desvio Padrão: 0.010886443782213952\n"
          ],
          "name": "stdout"
        }
      ]
    },
    {
      "cell_type": "markdown",
      "metadata": {
        "id": "AXwv5YIseINA"
      },
      "source": [
        "Novamente, vamos transformar esses resultados em um Dataframe"
      ]
    },
    {
      "cell_type": "code",
      "metadata": {
        "colab": {
          "base_uri": "https://localhost:8080/",
          "height": 258
        },
        "id": "V6-eP8O7mtOg",
        "outputId": "24e65a5a-ea28-4cfb-a0be-41fb458aa434"
      },
      "source": [
        "df_resultado = pd.DataFrame(resultados, columns=[\"Resultado1\", \"Resultado2\", \"Resultado3\", \"Resultado4\", \"Resultado5\"])\n",
        "df_resultado"
      ],
      "execution_count": 102,
      "outputs": [
        {
          "output_type": "execute_result",
          "data": {
            "text/html": [
              "<div>\n",
              "<style scoped>\n",
              "    .dataframe tbody tr th:only-of-type {\n",
              "        vertical-align: middle;\n",
              "    }\n",
              "\n",
              "    .dataframe tbody tr th {\n",
              "        vertical-align: top;\n",
              "    }\n",
              "\n",
              "    .dataframe thead th {\n",
              "        text-align: right;\n",
              "    }\n",
              "</style>\n",
              "<table border=\"1\" class=\"dataframe\">\n",
              "  <thead>\n",
              "    <tr style=\"text-align: right;\">\n",
              "      <th></th>\n",
              "      <th>Resultado1</th>\n",
              "      <th>Resultado2</th>\n",
              "      <th>Resultado3</th>\n",
              "      <th>Resultado4</th>\n",
              "      <th>Resultado5</th>\n",
              "    </tr>\n",
              "  </thead>\n",
              "  <tbody>\n",
              "    <tr>\n",
              "      <th>0</th>\n",
              "      <td>0.716549</td>\n",
              "      <td>0.714805</td>\n",
              "      <td>0.680148</td>\n",
              "      <td>0.715028</td>\n",
              "      <td>0.711488</td>\n",
              "    </tr>\n",
              "    <tr>\n",
              "      <th>1</th>\n",
              "      <td>0.663019</td>\n",
              "      <td>0.649860</td>\n",
              "      <td>0.662725</td>\n",
              "      <td>0.650502</td>\n",
              "      <td>0.632268</td>\n",
              "    </tr>\n",
              "    <tr>\n",
              "      <th>2</th>\n",
              "      <td>0.708842</td>\n",
              "      <td>0.685406</td>\n",
              "      <td>0.675605</td>\n",
              "      <td>0.727725</td>\n",
              "      <td>0.720505</td>\n",
              "    </tr>\n",
              "    <tr>\n",
              "      <th>3</th>\n",
              "      <td>0.712173</td>\n",
              "      <td>0.718726</td>\n",
              "      <td>0.675524</td>\n",
              "      <td>0.712670</td>\n",
              "      <td>0.715908</td>\n",
              "    </tr>\n",
              "    <tr>\n",
              "      <th>4</th>\n",
              "      <td>0.724077</td>\n",
              "      <td>0.712005</td>\n",
              "      <td>0.685780</td>\n",
              "      <td>0.719453</td>\n",
              "      <td>0.715478</td>\n",
              "    </tr>\n",
              "    <tr>\n",
              "      <th>5</th>\n",
              "      <td>0.698612</td>\n",
              "      <td>0.683691</td>\n",
              "      <td>0.703528</td>\n",
              "      <td>0.699279</td>\n",
              "      <td>0.702966</td>\n",
              "    </tr>\n",
              "    <tr>\n",
              "      <th>6</th>\n",
              "      <td>0.689467</td>\n",
              "      <td>0.674372</td>\n",
              "      <td>0.675014</td>\n",
              "      <td>0.703963</td>\n",
              "      <td>0.684011</td>\n",
              "    </tr>\n",
              "  </tbody>\n",
              "</table>\n",
              "</div>"
            ],
            "text/plain": [
              "   Resultado1  Resultado2  Resultado3  Resultado4  Resultado5\n",
              "0    0.716549    0.714805    0.680148    0.715028    0.711488\n",
              "1    0.663019    0.649860    0.662725    0.650502    0.632268\n",
              "2    0.708842    0.685406    0.675605    0.727725    0.720505\n",
              "3    0.712173    0.718726    0.675524    0.712670    0.715908\n",
              "4    0.724077    0.712005    0.685780    0.719453    0.715478\n",
              "5    0.698612    0.683691    0.703528    0.699279    0.702966\n",
              "6    0.689467    0.674372    0.675014    0.703963    0.684011"
            ]
          },
          "metadata": {
            "tags": []
          },
          "execution_count": 102
        }
      ]
    },
    {
      "cell_type": "code",
      "metadata": {
        "colab": {
          "base_uri": "https://localhost:8080/",
          "height": 258
        },
        "id": "UtxOW5_1m0Nx",
        "outputId": "71610558-0bb3-4e14-d6b3-b77f48448575"
      },
      "source": [
        "df_nomes = pd.DataFrame(nomes, columns=[\"Nomes\"])\n",
        "df_nomes"
      ],
      "execution_count": 103,
      "outputs": [
        {
          "output_type": "execute_result",
          "data": {
            "text/html": [
              "<div>\n",
              "<style scoped>\n",
              "    .dataframe tbody tr th:only-of-type {\n",
              "        vertical-align: middle;\n",
              "    }\n",
              "\n",
              "    .dataframe tbody tr th {\n",
              "        vertical-align: top;\n",
              "    }\n",
              "\n",
              "    .dataframe thead th {\n",
              "        text-align: right;\n",
              "    }\n",
              "</style>\n",
              "<table border=\"1\" class=\"dataframe\">\n",
              "  <thead>\n",
              "    <tr style=\"text-align: right;\">\n",
              "      <th></th>\n",
              "      <th>Nomes</th>\n",
              "    </tr>\n",
              "  </thead>\n",
              "  <tbody>\n",
              "    <tr>\n",
              "      <th>0</th>\n",
              "      <td>LogisticRegression</td>\n",
              "    </tr>\n",
              "    <tr>\n",
              "      <th>1</th>\n",
              "      <td>DecisionTreeClassifier</td>\n",
              "    </tr>\n",
              "    <tr>\n",
              "      <th>2</th>\n",
              "      <td>KNeighborsClassifier</td>\n",
              "    </tr>\n",
              "    <tr>\n",
              "      <th>3</th>\n",
              "      <td>MLPClassifier</td>\n",
              "    </tr>\n",
              "    <tr>\n",
              "      <th>4</th>\n",
              "      <td>SuportVectorMachine</td>\n",
              "    </tr>\n",
              "    <tr>\n",
              "      <th>5</th>\n",
              "      <td>NaiveBayes</td>\n",
              "    </tr>\n",
              "    <tr>\n",
              "      <th>6</th>\n",
              "      <td>RandomForestClassifier</td>\n",
              "    </tr>\n",
              "  </tbody>\n",
              "</table>\n",
              "</div>"
            ],
            "text/plain": [
              "                    Nomes\n",
              "0      LogisticRegression\n",
              "1  DecisionTreeClassifier\n",
              "2    KNeighborsClassifier\n",
              "3           MLPClassifier\n",
              "4     SuportVectorMachine\n",
              "5              NaiveBayes\n",
              "6  RandomForestClassifier"
            ]
          },
          "metadata": {
            "tags": []
          },
          "execution_count": 103
        }
      ]
    },
    {
      "cell_type": "code",
      "metadata": {
        "colab": {
          "base_uri": "https://localhost:8080/",
          "height": 258
        },
        "id": "t-0d7p2Mm72a",
        "outputId": "1890f690-3a50-4ebe-b634-085615a498fa"
      },
      "source": [
        "nome_resultado = pd.concat([df_nomes, df_resultado], axis=1)\n",
        "nome_resultado"
      ],
      "execution_count": 104,
      "outputs": [
        {
          "output_type": "execute_result",
          "data": {
            "text/html": [
              "<div>\n",
              "<style scoped>\n",
              "    .dataframe tbody tr th:only-of-type {\n",
              "        vertical-align: middle;\n",
              "    }\n",
              "\n",
              "    .dataframe tbody tr th {\n",
              "        vertical-align: top;\n",
              "    }\n",
              "\n",
              "    .dataframe thead th {\n",
              "        text-align: right;\n",
              "    }\n",
              "</style>\n",
              "<table border=\"1\" class=\"dataframe\">\n",
              "  <thead>\n",
              "    <tr style=\"text-align: right;\">\n",
              "      <th></th>\n",
              "      <th>Nomes</th>\n",
              "      <th>Resultado1</th>\n",
              "      <th>Resultado2</th>\n",
              "      <th>Resultado3</th>\n",
              "      <th>Resultado4</th>\n",
              "      <th>Resultado5</th>\n",
              "    </tr>\n",
              "  </thead>\n",
              "  <tbody>\n",
              "    <tr>\n",
              "      <th>0</th>\n",
              "      <td>LogisticRegression</td>\n",
              "      <td>0.716549</td>\n",
              "      <td>0.714805</td>\n",
              "      <td>0.680148</td>\n",
              "      <td>0.715028</td>\n",
              "      <td>0.711488</td>\n",
              "    </tr>\n",
              "    <tr>\n",
              "      <th>1</th>\n",
              "      <td>DecisionTreeClassifier</td>\n",
              "      <td>0.663019</td>\n",
              "      <td>0.649860</td>\n",
              "      <td>0.662725</td>\n",
              "      <td>0.650502</td>\n",
              "      <td>0.632268</td>\n",
              "    </tr>\n",
              "    <tr>\n",
              "      <th>2</th>\n",
              "      <td>KNeighborsClassifier</td>\n",
              "      <td>0.708842</td>\n",
              "      <td>0.685406</td>\n",
              "      <td>0.675605</td>\n",
              "      <td>0.727725</td>\n",
              "      <td>0.720505</td>\n",
              "    </tr>\n",
              "    <tr>\n",
              "      <th>3</th>\n",
              "      <td>MLPClassifier</td>\n",
              "      <td>0.712173</td>\n",
              "      <td>0.718726</td>\n",
              "      <td>0.675524</td>\n",
              "      <td>0.712670</td>\n",
              "      <td>0.715908</td>\n",
              "    </tr>\n",
              "    <tr>\n",
              "      <th>4</th>\n",
              "      <td>SuportVectorMachine</td>\n",
              "      <td>0.724077</td>\n",
              "      <td>0.712005</td>\n",
              "      <td>0.685780</td>\n",
              "      <td>0.719453</td>\n",
              "      <td>0.715478</td>\n",
              "    </tr>\n",
              "    <tr>\n",
              "      <th>5</th>\n",
              "      <td>NaiveBayes</td>\n",
              "      <td>0.698612</td>\n",
              "      <td>0.683691</td>\n",
              "      <td>0.703528</td>\n",
              "      <td>0.699279</td>\n",
              "      <td>0.702966</td>\n",
              "    </tr>\n",
              "    <tr>\n",
              "      <th>6</th>\n",
              "      <td>RandomForestClassifier</td>\n",
              "      <td>0.689467</td>\n",
              "      <td>0.674372</td>\n",
              "      <td>0.675014</td>\n",
              "      <td>0.703963</td>\n",
              "      <td>0.684011</td>\n",
              "    </tr>\n",
              "  </tbody>\n",
              "</table>\n",
              "</div>"
            ],
            "text/plain": [
              "                    Nomes  Resultado1  ...  Resultado4  Resultado5\n",
              "0      LogisticRegression    0.716549  ...    0.715028    0.711488\n",
              "1  DecisionTreeClassifier    0.663019  ...    0.650502    0.632268\n",
              "2    KNeighborsClassifier    0.708842  ...    0.727725    0.720505\n",
              "3           MLPClassifier    0.712173  ...    0.712670    0.715908\n",
              "4     SuportVectorMachine    0.724077  ...    0.719453    0.715478\n",
              "5              NaiveBayes    0.698612  ...    0.699279    0.702966\n",
              "6  RandomForestClassifier    0.689467  ...    0.703963    0.684011\n",
              "\n",
              "[7 rows x 6 columns]"
            ]
          },
          "metadata": {
            "tags": []
          },
          "execution_count": 104
        }
      ]
    },
    {
      "cell_type": "code",
      "metadata": {
        "colab": {
          "base_uri": "https://localhost:8080/",
          "height": 258
        },
        "id": "XT34rsPDqfWQ",
        "outputId": "3308f16e-e19f-4764-af5b-bdcc4f9cc521"
      },
      "source": [
        "nome_resultado[\"Media\"] = (nome_resultado[\"Resultado1\"]+ nome_resultado[\"Resultado2\"]+ nome_resultado[\"Resultado3\"]+ \n",
        "                           nome_resultado[\"Resultado4\"]+ nome_resultado[\"Resultado5\"]) / 5\n",
        "\n",
        "nome_resultado.sort_values(by=\"Media\", ascending=False)"
      ],
      "execution_count": 105,
      "outputs": [
        {
          "output_type": "execute_result",
          "data": {
            "text/html": [
              "<div>\n",
              "<style scoped>\n",
              "    .dataframe tbody tr th:only-of-type {\n",
              "        vertical-align: middle;\n",
              "    }\n",
              "\n",
              "    .dataframe tbody tr th {\n",
              "        vertical-align: top;\n",
              "    }\n",
              "\n",
              "    .dataframe thead th {\n",
              "        text-align: right;\n",
              "    }\n",
              "</style>\n",
              "<table border=\"1\" class=\"dataframe\">\n",
              "  <thead>\n",
              "    <tr style=\"text-align: right;\">\n",
              "      <th></th>\n",
              "      <th>Nomes</th>\n",
              "      <th>Resultado1</th>\n",
              "      <th>Resultado2</th>\n",
              "      <th>Resultado3</th>\n",
              "      <th>Resultado4</th>\n",
              "      <th>Resultado5</th>\n",
              "      <th>Media</th>\n",
              "    </tr>\n",
              "  </thead>\n",
              "  <tbody>\n",
              "    <tr>\n",
              "      <th>4</th>\n",
              "      <td>SuportVectorMachine</td>\n",
              "      <td>0.724077</td>\n",
              "      <td>0.712005</td>\n",
              "      <td>0.685780</td>\n",
              "      <td>0.719453</td>\n",
              "      <td>0.715478</td>\n",
              "      <td>0.711359</td>\n",
              "    </tr>\n",
              "    <tr>\n",
              "      <th>0</th>\n",
              "      <td>LogisticRegression</td>\n",
              "      <td>0.716549</td>\n",
              "      <td>0.714805</td>\n",
              "      <td>0.680148</td>\n",
              "      <td>0.715028</td>\n",
              "      <td>0.711488</td>\n",
              "      <td>0.707604</td>\n",
              "    </tr>\n",
              "    <tr>\n",
              "      <th>3</th>\n",
              "      <td>MLPClassifier</td>\n",
              "      <td>0.712173</td>\n",
              "      <td>0.718726</td>\n",
              "      <td>0.675524</td>\n",
              "      <td>0.712670</td>\n",
              "      <td>0.715908</td>\n",
              "      <td>0.707000</td>\n",
              "    </tr>\n",
              "    <tr>\n",
              "      <th>2</th>\n",
              "      <td>KNeighborsClassifier</td>\n",
              "      <td>0.708842</td>\n",
              "      <td>0.685406</td>\n",
              "      <td>0.675605</td>\n",
              "      <td>0.727725</td>\n",
              "      <td>0.720505</td>\n",
              "      <td>0.703617</td>\n",
              "    </tr>\n",
              "    <tr>\n",
              "      <th>5</th>\n",
              "      <td>NaiveBayes</td>\n",
              "      <td>0.698612</td>\n",
              "      <td>0.683691</td>\n",
              "      <td>0.703528</td>\n",
              "      <td>0.699279</td>\n",
              "      <td>0.702966</td>\n",
              "      <td>0.697615</td>\n",
              "    </tr>\n",
              "    <tr>\n",
              "      <th>6</th>\n",
              "      <td>RandomForestClassifier</td>\n",
              "      <td>0.689467</td>\n",
              "      <td>0.674372</td>\n",
              "      <td>0.675014</td>\n",
              "      <td>0.703963</td>\n",
              "      <td>0.684011</td>\n",
              "      <td>0.685365</td>\n",
              "    </tr>\n",
              "    <tr>\n",
              "      <th>1</th>\n",
              "      <td>DecisionTreeClassifier</td>\n",
              "      <td>0.663019</td>\n",
              "      <td>0.649860</td>\n",
              "      <td>0.662725</td>\n",
              "      <td>0.650502</td>\n",
              "      <td>0.632268</td>\n",
              "      <td>0.651675</td>\n",
              "    </tr>\n",
              "  </tbody>\n",
              "</table>\n",
              "</div>"
            ],
            "text/plain": [
              "                    Nomes  Resultado1  ...  Resultado5     Media\n",
              "4     SuportVectorMachine    0.724077  ...    0.715478  0.711359\n",
              "0      LogisticRegression    0.716549  ...    0.711488  0.707604\n",
              "3           MLPClassifier    0.712173  ...    0.715908  0.707000\n",
              "2    KNeighborsClassifier    0.708842  ...    0.720505  0.703617\n",
              "5              NaiveBayes    0.698612  ...    0.702966  0.697615\n",
              "6  RandomForestClassifier    0.689467  ...    0.684011  0.685365\n",
              "1  DecisionTreeClassifier    0.663019  ...    0.632268  0.651675\n",
              "\n",
              "[7 rows x 7 columns]"
            ]
          },
          "metadata": {
            "tags": []
          },
          "execution_count": 105
        }
      ]
    },
    {
      "cell_type": "code",
      "metadata": {
        "colab": {
          "base_uri": "https://localhost:8080/",
          "height": 422
        },
        "id": "HLtSq6dRqnQo",
        "outputId": "ef4e7996-9312-43e7-9feb-6b98a998b725"
      },
      "source": [
        "fig = plt.figure(figsize = (18, 6))\n",
        "splot = sns.barplot(x=\"Nomes\", y=\"Media\", data=nome_resultado.sort_values(by=\"Media\", ascending=False))\n",
        "\n",
        "for p in splot.patches:\n",
        "    splot.annotate(format(p.get_height(), '.6f'), \n",
        "                   (p.get_x() + p.get_width() / 2., p.get_height()), \n",
        "                   ha = 'center', va = 'center', \n",
        "                   xytext = (0, 9), \n",
        "                   textcoords = 'offset points')\n",
        "plt.title(\"Desempenho dos modelos\")"
      ],
      "execution_count": 106,
      "outputs": [
        {
          "output_type": "execute_result",
          "data": {
            "text/plain": [
              "Text(0.5, 1.0, 'Desempenho dos modelos')"
            ]
          },
          "metadata": {
            "tags": []
          },
          "execution_count": 106
        },
        {
          "output_type": "display_data",
          "data": {
            "image/png": "[encoded data removed]",
            "text/plain": [
              "<Figure size 1296x432 with 1 Axes>"
            ]
          },
          "metadata": {
            "tags": [],
            "needs_background": "light"
          }
        }
      ]
    },
    {
      "cell_type": "markdown",
      "metadata": {
        "id": "8-9mCgDDju8t"
      },
      "source": [
        "# Definição do modelo\n",
        "\n",
        "Conforme pudemos ver a comparação entre os dois gráficos, os algoritmos Suport Vector Machine e Regressão Logística tiveram os melhores desempenhos entre os modelos treinados, enquanto o algoritmo MLPClassifier teve um desempenho significativamente superior quando utilizamos apenas 5 variáveis. A medida de desempenho aqui utilizada foi a F1-Score, que é como uma média ponderada entre a precisação e o recall, onde a precisão é o número de resultados positivos verdadeiros dividido pelo número de todos os resultados positivos. Enquanto o recall é o número de resultados positivos verdadeiros dividos pelo número de todas as amostras que deveriam ter sido identificada como positivas.\n",
        "\n"
      ]
    }
  ]
}